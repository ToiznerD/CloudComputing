{
  "nbformat": 4,
  "nbformat_minor": 0,
  "metadata": {
    "colab": {
      "provenance": [],
      "include_colab_link": true
    },
    "kernelspec": {
      "name": "python3",
      "display_name": "Python 3"
    },
    "language_info": {
      "name": "python"
    },
    "widgets": {
      "application/vnd.jupyter.widget-state+json": {
        "d62ae0825f664b7fa8d33f0956e3942b": {
          "model_module": "@jupyter-widgets/controls",
          "model_name": "DropdownModel",
          "model_module_version": "1.5.0",
          "state": {
            "_dom_classes": [],
            "_model_module": "@jupyter-widgets/controls",
            "_model_module_version": "1.5.0",
            "_model_name": "DropdownModel",
            "_options_labels": [
              "Dort",
              "Raz",
              "Amit",
              "Avner",
              "Omer",
              "Dor"
            ],
            "_view_count": null,
            "_view_module": "@jupyter-widgets/controls",
            "_view_module_version": "1.5.0",
            "_view_name": "DropdownView",
            "description": "Student:",
            "description_tooltip": null,
            "disabled": false,
            "index": 0,
            "layout": "IPY_MODEL_cdcf2fd687b34d94bf7208c7eeb2246f",
            "style": "IPY_MODEL_ee60b348a47c4c76b62c7c64eb5410f4"
          }
        },
        "cdcf2fd687b34d94bf7208c7eeb2246f": {
          "model_module": "@jupyter-widgets/base",
          "model_name": "LayoutModel",
          "model_module_version": "1.2.0",
          "state": {
            "_model_module": "@jupyter-widgets/base",
            "_model_module_version": "1.2.0",
            "_model_name": "LayoutModel",
            "_view_count": null,
            "_view_module": "@jupyter-widgets/base",
            "_view_module_version": "1.2.0",
            "_view_name": "LayoutView",
            "align_content": null,
            "align_items": null,
            "align_self": null,
            "border": null,
            "bottom": null,
            "display": null,
            "flex": null,
            "flex_flow": null,
            "grid_area": null,
            "grid_auto_columns": null,
            "grid_auto_flow": null,
            "grid_auto_rows": null,
            "grid_column": null,
            "grid_gap": null,
            "grid_row": null,
            "grid_template_areas": null,
            "grid_template_columns": null,
            "grid_template_rows": null,
            "height": null,
            "justify_content": null,
            "justify_items": null,
            "left": null,
            "margin": null,
            "max_height": null,
            "max_width": null,
            "min_height": null,
            "min_width": null,
            "object_fit": null,
            "object_position": null,
            "order": null,
            "overflow": null,
            "overflow_x": null,
            "overflow_y": null,
            "padding": null,
            "right": null,
            "top": null,
            "visibility": null,
            "width": null
          }
        },
        "ee60b348a47c4c76b62c7c64eb5410f4": {
          "model_module": "@jupyter-widgets/controls",
          "model_name": "DescriptionStyleModel",
          "model_module_version": "1.5.0",
          "state": {
            "_model_module": "@jupyter-widgets/controls",
            "_model_module_version": "1.5.0",
            "_model_name": "DescriptionStyleModel",
            "_view_count": null,
            "_view_module": "@jupyter-widgets/base",
            "_view_module_version": "1.2.0",
            "_view_name": "StyleView",
            "description_width": "35%"
          }
        },
        "c8a5a6b1f640489aaa463454f56f5a24": {
          "model_module": "@jupyter-widgets/controls",
          "model_name": "TextModel",
          "model_module_version": "1.5.0",
          "state": {
            "_dom_classes": [],
            "_model_module": "@jupyter-widgets/controls",
            "_model_module_version": "1.5.0",
            "_model_name": "TextModel",
            "_view_count": null,
            "_view_module": "@jupyter-widgets/controls",
            "_view_module_version": "1.5.0",
            "_view_name": "TextView",
            "continuous_update": true,
            "description": "Last Name:",
            "description_tooltip": null,
            "disabled": true,
            "layout": "IPY_MODEL_931fc4fb8314427681bf6e1515fbded2",
            "placeholder": "Type something",
            "style": "IPY_MODEL_56f157e138b945feaae785e201f45b33",
            "value": "Toizner"
          }
        },
        "931fc4fb8314427681bf6e1515fbded2": {
          "model_module": "@jupyter-widgets/base",
          "model_name": "LayoutModel",
          "model_module_version": "1.2.0",
          "state": {
            "_model_module": "@jupyter-widgets/base",
            "_model_module_version": "1.2.0",
            "_model_name": "LayoutModel",
            "_view_count": null,
            "_view_module": "@jupyter-widgets/base",
            "_view_module_version": "1.2.0",
            "_view_name": "LayoutView",
            "align_content": null,
            "align_items": null,
            "align_self": null,
            "border": null,
            "bottom": null,
            "display": null,
            "flex": null,
            "flex_flow": null,
            "grid_area": null,
            "grid_auto_columns": null,
            "grid_auto_flow": null,
            "grid_auto_rows": null,
            "grid_column": null,
            "grid_gap": null,
            "grid_row": null,
            "grid_template_areas": null,
            "grid_template_columns": null,
            "grid_template_rows": null,
            "height": null,
            "justify_content": null,
            "justify_items": null,
            "left": null,
            "margin": null,
            "max_height": null,
            "max_width": null,
            "min_height": null,
            "min_width": null,
            "object_fit": null,
            "object_position": null,
            "order": null,
            "overflow": null,
            "overflow_x": null,
            "overflow_y": null,
            "padding": null,
            "right": null,
            "top": null,
            "visibility": null,
            "width": null
          }
        },
        "56f157e138b945feaae785e201f45b33": {
          "model_module": "@jupyter-widgets/controls",
          "model_name": "DescriptionStyleModel",
          "model_module_version": "1.5.0",
          "state": {
            "_model_module": "@jupyter-widgets/controls",
            "_model_module_version": "1.5.0",
            "_model_name": "DescriptionStyleModel",
            "_view_count": null,
            "_view_module": "@jupyter-widgets/base",
            "_view_module_version": "1.2.0",
            "_view_name": "StyleView",
            "description_width": "35%"
          }
        },
        "68a03e60365b4d6ab0de023138c905c3": {
          "model_module": "@jupyter-widgets/controls",
          "model_name": "TextModel",
          "model_module_version": "1.5.0",
          "state": {
            "_dom_classes": [],
            "_model_module": "@jupyter-widgets/controls",
            "_model_module_version": "1.5.0",
            "_model_name": "TextModel",
            "_view_count": null,
            "_view_module": "@jupyter-widgets/controls",
            "_view_module_version": "1.5.0",
            "_view_name": "TextView",
            "continuous_update": true,
            "description": "Email:",
            "description_tooltip": null,
            "disabled": true,
            "layout": "IPY_MODEL_b1b86ff03d194d599671e69552cdb03a",
            "placeholder": "Type something",
            "style": "IPY_MODEL_24ddddb251164495b293238b34fa9fb9",
            "value": "dor.toizner@e.braude.ac.il"
          }
        },
        "b1b86ff03d194d599671e69552cdb03a": {
          "model_module": "@jupyter-widgets/base",
          "model_name": "LayoutModel",
          "model_module_version": "1.2.0",
          "state": {
            "_model_module": "@jupyter-widgets/base",
            "_model_module_version": "1.2.0",
            "_model_name": "LayoutModel",
            "_view_count": null,
            "_view_module": "@jupyter-widgets/base",
            "_view_module_version": "1.2.0",
            "_view_name": "LayoutView",
            "align_content": null,
            "align_items": null,
            "align_self": null,
            "border": null,
            "bottom": null,
            "display": null,
            "flex": null,
            "flex_flow": null,
            "grid_area": null,
            "grid_auto_columns": null,
            "grid_auto_flow": null,
            "grid_auto_rows": null,
            "grid_column": null,
            "grid_gap": null,
            "grid_row": null,
            "grid_template_areas": null,
            "grid_template_columns": null,
            "grid_template_rows": null,
            "height": null,
            "justify_content": null,
            "justify_items": null,
            "left": null,
            "margin": null,
            "max_height": null,
            "max_width": null,
            "min_height": null,
            "min_width": null,
            "object_fit": null,
            "object_position": null,
            "order": null,
            "overflow": null,
            "overflow_x": null,
            "overflow_y": null,
            "padding": null,
            "right": null,
            "top": null,
            "visibility": null,
            "width": null
          }
        },
        "24ddddb251164495b293238b34fa9fb9": {
          "model_module": "@jupyter-widgets/controls",
          "model_name": "DescriptionStyleModel",
          "model_module_version": "1.5.0",
          "state": {
            "_model_module": "@jupyter-widgets/controls",
            "_model_module_version": "1.5.0",
            "_model_name": "DescriptionStyleModel",
            "_view_count": null,
            "_view_module": "@jupyter-widgets/base",
            "_view_module_version": "1.2.0",
            "_view_name": "StyleView",
            "description_width": "35%"
          }
        },
        "910bdd26880c47b2b7ca5156d88208cd": {
          "model_module": "@jupyter-widgets/controls",
          "model_name": "SelectModel",
          "model_module_version": "1.5.0",
          "state": {
            "_dom_classes": [],
            "_model_module": "@jupyter-widgets/controls",
            "_model_module_version": "1.5.0",
            "_model_name": "SelectModel",
            "_options_labels": [
              "Cloud Computing",
              "Compilation",
              "Advanced Web"
            ],
            "_view_count": null,
            "_view_module": "@jupyter-widgets/controls",
            "_view_module_version": "1.5.0",
            "_view_name": "SelectView",
            "description": "Courses:",
            "description_tooltip": null,
            "disabled": true,
            "index": 0,
            "layout": "IPY_MODEL_9cf157231b5349d4b59da193b8e3bb89",
            "rows": 5,
            "style": "IPY_MODEL_19025a01196d4ad4bcc0c3a2265bb458"
          }
        },
        "9cf157231b5349d4b59da193b8e3bb89": {
          "model_module": "@jupyter-widgets/base",
          "model_name": "LayoutModel",
          "model_module_version": "1.2.0",
          "state": {
            "_model_module": "@jupyter-widgets/base",
            "_model_module_version": "1.2.0",
            "_model_name": "LayoutModel",
            "_view_count": null,
            "_view_module": "@jupyter-widgets/base",
            "_view_module_version": "1.2.0",
            "_view_name": "LayoutView",
            "align_content": null,
            "align_items": null,
            "align_self": null,
            "border": null,
            "bottom": null,
            "display": null,
            "flex": null,
            "flex_flow": null,
            "grid_area": null,
            "grid_auto_columns": null,
            "grid_auto_flow": null,
            "grid_auto_rows": null,
            "grid_column": null,
            "grid_gap": null,
            "grid_row": null,
            "grid_template_areas": null,
            "grid_template_columns": null,
            "grid_template_rows": null,
            "height": null,
            "justify_content": null,
            "justify_items": null,
            "left": null,
            "margin": null,
            "max_height": null,
            "max_width": null,
            "min_height": null,
            "min_width": null,
            "object_fit": null,
            "object_position": null,
            "order": null,
            "overflow": null,
            "overflow_x": null,
            "overflow_y": null,
            "padding": null,
            "right": null,
            "top": null,
            "visibility": null,
            "width": null
          }
        },
        "19025a01196d4ad4bcc0c3a2265bb458": {
          "model_module": "@jupyter-widgets/controls",
          "model_name": "DescriptionStyleModel",
          "model_module_version": "1.5.0",
          "state": {
            "_model_module": "@jupyter-widgets/controls",
            "_model_module_version": "1.5.0",
            "_model_name": "DescriptionStyleModel",
            "_view_count": null,
            "_view_module": "@jupyter-widgets/base",
            "_view_module_version": "1.2.0",
            "_view_name": "StyleView",
            "description_width": "35%"
          }
        },
        "0292f90792414dfeb5965ec06a0b930a": {
          "model_module": "@jupyter-widgets/controls",
          "model_name": "TextModel",
          "model_module_version": "1.5.0",
          "state": {
            "_dom_classes": [],
            "_model_module": "@jupyter-widgets/controls",
            "_model_module_version": "1.5.0",
            "_model_name": "TextModel",
            "_view_count": null,
            "_view_module": "@jupyter-widgets/controls",
            "_view_module_version": "1.5.0",
            "_view_name": "TextView",
            "continuous_update": true,
            "description": "Link:",
            "description_tooltip": null,
            "disabled": true,
            "layout": "IPY_MODEL_9ffeec2012de46ed91065dff2c29a0f3",
            "placeholder": "Type something",
            "style": "IPY_MODEL_fc526efd831b42f390c986b9c442f99e",
            "value": "https://github.com/ToiznerD"
          }
        },
        "9ffeec2012de46ed91065dff2c29a0f3": {
          "model_module": "@jupyter-widgets/base",
          "model_name": "LayoutModel",
          "model_module_version": "1.2.0",
          "state": {
            "_model_module": "@jupyter-widgets/base",
            "_model_module_version": "1.2.0",
            "_model_name": "LayoutModel",
            "_view_count": null,
            "_view_module": "@jupyter-widgets/base",
            "_view_module_version": "1.2.0",
            "_view_name": "LayoutView",
            "align_content": null,
            "align_items": null,
            "align_self": null,
            "border": null,
            "bottom": null,
            "display": null,
            "flex": null,
            "flex_flow": null,
            "grid_area": null,
            "grid_auto_columns": null,
            "grid_auto_flow": null,
            "grid_auto_rows": null,
            "grid_column": null,
            "grid_gap": null,
            "grid_row": null,
            "grid_template_areas": null,
            "grid_template_columns": null,
            "grid_template_rows": null,
            "height": null,
            "justify_content": null,
            "justify_items": null,
            "left": null,
            "margin": null,
            "max_height": null,
            "max_width": null,
            "min_height": null,
            "min_width": null,
            "object_fit": null,
            "object_position": null,
            "order": null,
            "overflow": null,
            "overflow_x": null,
            "overflow_y": null,
            "padding": null,
            "right": null,
            "top": null,
            "visibility": null,
            "width": null
          }
        },
        "fc526efd831b42f390c986b9c442f99e": {
          "model_module": "@jupyter-widgets/controls",
          "model_name": "DescriptionStyleModel",
          "model_module_version": "1.5.0",
          "state": {
            "_model_module": "@jupyter-widgets/controls",
            "_model_module_version": "1.5.0",
            "_model_name": "DescriptionStyleModel",
            "_view_count": null,
            "_view_module": "@jupyter-widgets/base",
            "_view_module_version": "1.2.0",
            "_view_name": "StyleView",
            "description_width": "35%"
          }
        },
        "bf5233eaae5946dba31435f3f5702713": {
          "model_module": "@jupyter-widgets/controls",
          "model_name": "TextModel",
          "model_module_version": "1.5.0",
          "state": {
            "_dom_classes": [],
            "_model_module": "@jupyter-widgets/controls",
            "_model_module_version": "1.5.0",
            "_model_name": "TextModel",
            "_view_count": null,
            "_view_module": "@jupyter-widgets/controls",
            "_view_module_version": "1.5.0",
            "_view_name": "TextView",
            "continuous_update": true,
            "description": "Favorite Show:",
            "description_tooltip": null,
            "disabled": false,
            "layout": "IPY_MODEL_6f99ec136ede4e7995e641078c222dbe",
            "placeholder": "Type something",
            "style": "IPY_MODEL_b47fdf4875e9420f87ea9c4b334ced13",
            "value": "Insert Here"
          }
        },
        "6f99ec136ede4e7995e641078c222dbe": {
          "model_module": "@jupyter-widgets/base",
          "model_name": "LayoutModel",
          "model_module_version": "1.2.0",
          "state": {
            "_model_module": "@jupyter-widgets/base",
            "_model_module_version": "1.2.0",
            "_model_name": "LayoutModel",
            "_view_count": null,
            "_view_module": "@jupyter-widgets/base",
            "_view_module_version": "1.2.0",
            "_view_name": "LayoutView",
            "align_content": null,
            "align_items": null,
            "align_self": null,
            "border": null,
            "bottom": null,
            "display": null,
            "flex": null,
            "flex_flow": null,
            "grid_area": null,
            "grid_auto_columns": null,
            "grid_auto_flow": null,
            "grid_auto_rows": null,
            "grid_column": null,
            "grid_gap": null,
            "grid_row": null,
            "grid_template_areas": null,
            "grid_template_columns": null,
            "grid_template_rows": null,
            "height": null,
            "justify_content": null,
            "justify_items": null,
            "left": null,
            "margin": null,
            "max_height": null,
            "max_width": null,
            "min_height": null,
            "min_width": null,
            "object_fit": null,
            "object_position": null,
            "order": null,
            "overflow": null,
            "overflow_x": null,
            "overflow_y": null,
            "padding": null,
            "right": null,
            "top": null,
            "visibility": null,
            "width": null
          }
        },
        "b47fdf4875e9420f87ea9c4b334ced13": {
          "model_module": "@jupyter-widgets/controls",
          "model_name": "DescriptionStyleModel",
          "model_module_version": "1.5.0",
          "state": {
            "_model_module": "@jupyter-widgets/controls",
            "_model_module_version": "1.5.0",
            "_model_name": "DescriptionStyleModel",
            "_view_count": null,
            "_view_module": "@jupyter-widgets/base",
            "_view_module_version": "1.2.0",
            "_view_name": "StyleView",
            "description_width": "35%"
          }
        },
        "ab9d1b000de7458083ec48b4375de1e8": {
          "model_module": "@jupyter-widgets/controls",
          "model_name": "ButtonModel",
          "model_module_version": "1.5.0",
          "state": {
            "_dom_classes": [],
            "_model_module": "@jupyter-widgets/controls",
            "_model_module_version": "1.5.0",
            "_model_name": "ButtonModel",
            "_view_count": null,
            "_view_module": "@jupyter-widgets/controls",
            "_view_module_version": "1.5.0",
            "_view_name": "ButtonView",
            "button_style": "",
            "description": "Update!",
            "disabled": false,
            "icon": "",
            "layout": "IPY_MODEL_6f4852edb55a4844b389c556e525791f",
            "style": "IPY_MODEL_d0a0db59ae8f40f3a6a93f3680f005ea",
            "tooltip": ""
          }
        },
        "6f4852edb55a4844b389c556e525791f": {
          "model_module": "@jupyter-widgets/base",
          "model_name": "LayoutModel",
          "model_module_version": "1.2.0",
          "state": {
            "_model_module": "@jupyter-widgets/base",
            "_model_module_version": "1.2.0",
            "_model_name": "LayoutModel",
            "_view_count": null,
            "_view_module": "@jupyter-widgets/base",
            "_view_module_version": "1.2.0",
            "_view_name": "LayoutView",
            "align_content": null,
            "align_items": null,
            "align_self": null,
            "border": null,
            "bottom": null,
            "display": null,
            "flex": null,
            "flex_flow": null,
            "grid_area": null,
            "grid_auto_columns": null,
            "grid_auto_flow": null,
            "grid_auto_rows": null,
            "grid_column": null,
            "grid_gap": null,
            "grid_row": null,
            "grid_template_areas": null,
            "grid_template_columns": null,
            "grid_template_rows": null,
            "height": null,
            "justify_content": null,
            "justify_items": null,
            "left": null,
            "margin": null,
            "max_height": null,
            "max_width": null,
            "min_height": null,
            "min_width": null,
            "object_fit": null,
            "object_position": null,
            "order": null,
            "overflow": null,
            "overflow_x": null,
            "overflow_y": null,
            "padding": null,
            "right": null,
            "top": null,
            "visibility": null,
            "width": null
          }
        },
        "d0a0db59ae8f40f3a6a93f3680f005ea": {
          "model_module": "@jupyter-widgets/controls",
          "model_name": "ButtonStyleModel",
          "model_module_version": "1.5.0",
          "state": {
            "_model_module": "@jupyter-widgets/controls",
            "_model_module_version": "1.5.0",
            "_model_name": "ButtonStyleModel",
            "_view_count": null,
            "_view_module": "@jupyter-widgets/base",
            "_view_module_version": "1.2.0",
            "_view_name": "StyleView",
            "button_color": null,
            "font_weight": ""
          }
        }
      }
    }
  },
  "cells": [
    {
      "cell_type": "markdown",
      "metadata": {
        "id": "view-in-github",
        "colab_type": "text"
      },
      "source": [
        "<a href=\"https://colab.research.google.com/github/ToiznerD/CloudComputing/blob/main/Tutorial03.ipynb\" target=\"_parent\"><img src=\"https://colab.research.google.com/assets/colab-badge.svg\" alt=\"Open In Colab\"/></a>"
      ]
    },
    {
      "cell_type": "code",
      "execution_count": 2,
      "metadata": {
        "colab": {
          "base_uri": "https://localhost:8080/",
          "height": 366,
          "referenced_widgets": [
            "d62ae0825f664b7fa8d33f0956e3942b",
            "cdcf2fd687b34d94bf7208c7eeb2246f",
            "ee60b348a47c4c76b62c7c64eb5410f4",
            "c8a5a6b1f640489aaa463454f56f5a24",
            "931fc4fb8314427681bf6e1515fbded2",
            "56f157e138b945feaae785e201f45b33",
            "68a03e60365b4d6ab0de023138c905c3",
            "b1b86ff03d194d599671e69552cdb03a",
            "24ddddb251164495b293238b34fa9fb9",
            "910bdd26880c47b2b7ca5156d88208cd",
            "9cf157231b5349d4b59da193b8e3bb89",
            "19025a01196d4ad4bcc0c3a2265bb458",
            "0292f90792414dfeb5965ec06a0b930a",
            "9ffeec2012de46ed91065dff2c29a0f3",
            "fc526efd831b42f390c986b9c442f99e",
            "bf5233eaae5946dba31435f3f5702713",
            "6f99ec136ede4e7995e641078c222dbe",
            "b47fdf4875e9420f87ea9c4b334ced13",
            "ab9d1b000de7458083ec48b4375de1e8",
            "6f4852edb55a4844b389c556e525791f",
            "d0a0db59ae8f40f3a6a93f3680f005ea"
          ]
        },
        "id": "HHFTV87yFQ9X",
        "outputId": "76019f2c-4874-436f-b65a-4a0801532a43"
      },
      "outputs": [
        {
          "output_type": "stream",
          "name": "stdout",
          "text": [
            "Drive already mounted at /content/drive; to attempt to forcibly remount, call drive.mount(\"/content/drive\", force_remount=True).\n"
          ]
        },
        {
          "output_type": "display_data",
          "data": {
            "text/plain": [
              "<IPython.core.display.HTML object>"
            ],
            "text/html": [
              "<style>b {color: #653405} body {color: #653405;background-color: #B97E46}</style>"
            ]
          },
          "metadata": {}
        },
        {
          "output_type": "display_data",
          "data": {
            "text/html": [
              "<h1><b>STUDENTS</b></h1>"
            ]
          },
          "metadata": {}
        },
        {
          "output_type": "display_data",
          "data": {
            "text/plain": [
              "Dropdown(description='Student:', options=('Dort', 'Raz', 'Amit', 'Avner', 'Omer', 'Dor'), style=DescriptionSty…"
            ],
            "application/vnd.jupyter.widget-view+json": {
              "version_major": 2,
              "version_minor": 0,
              "model_id": "d62ae0825f664b7fa8d33f0956e3942b"
            }
          },
          "metadata": {}
        },
        {
          "output_type": "display_data",
          "data": {
            "text/plain": [
              "Text(value='Toizner', description='Last Name:', disabled=True, placeholder='Type something', style=Description…"
            ],
            "application/vnd.jupyter.widget-view+json": {
              "version_major": 2,
              "version_minor": 0,
              "model_id": "c8a5a6b1f640489aaa463454f56f5a24"
            }
          },
          "metadata": {}
        },
        {
          "output_type": "display_data",
          "data": {
            "text/plain": [
              "Text(value='dor.toizner@e.braude.ac.il', description='Email:', disabled=True, placeholder='Type something', st…"
            ],
            "application/vnd.jupyter.widget-view+json": {
              "version_major": 2,
              "version_minor": 0,
              "model_id": "68a03e60365b4d6ab0de023138c905c3"
            }
          },
          "metadata": {}
        },
        {
          "output_type": "display_data",
          "data": {
            "text/plain": [
              "Select(description='Courses:', disabled=True, options=('Cloud Computing', 'Compilation', 'Advanced Web'), styl…"
            ],
            "application/vnd.jupyter.widget-view+json": {
              "version_major": 2,
              "version_minor": 0,
              "model_id": "910bdd26880c47b2b7ca5156d88208cd"
            }
          },
          "metadata": {}
        },
        {
          "output_type": "display_data",
          "data": {
            "text/plain": [
              "Text(value='https://github.com/ToiznerD', description='Link:', disabled=True, placeholder='Type something', st…"
            ],
            "application/vnd.jupyter.widget-view+json": {
              "version_major": 2,
              "version_minor": 0,
              "model_id": "0292f90792414dfeb5965ec06a0b930a"
            }
          },
          "metadata": {}
        },
        {
          "output_type": "display_data",
          "data": {
            "text/plain": [
              "Text(value='Insert Here', description='Favorite Show:', placeholder='Type something', style=DescriptionStyle(d…"
            ],
            "application/vnd.jupyter.widget-view+json": {
              "version_major": 2,
              "version_minor": 0,
              "model_id": "bf5233eaae5946dba31435f3f5702713"
            }
          },
          "metadata": {}
        },
        {
          "output_type": "display_data",
          "data": {
            "text/plain": [
              "Button(description='Update!', style=ButtonStyle())"
            ],
            "application/vnd.jupyter.widget-view+json": {
              "version_major": 2,
              "version_minor": 0,
              "model_id": "ab9d1b000de7458083ec48b4375de1e8"
            }
          },
          "metadata": {}
        }
      ],
      "source": [
        "import json\n",
        "import IPython\n",
        "import ipywidgets as widgets\n",
        "from google.colab import drive\n",
        "from google.colab.output import _publish as publish\n",
        "drive.mount('/content/drive')\n",
        "\n",
        "students = []\n",
        "\n",
        "publish.css(\"b {color: #653405} body {color: #653405;background-color: #B97E46}\")\n",
        "IPython.display.display_html(\"<h1><b>STUDENTS</b></h1>\", raw=True)\n",
        "\n",
        "with open('/content/drive/My Drive/students.json') as fid:\n",
        "  students = json.load(fid)\n",
        "\n",
        "\n",
        "name = widgets.Dropdown(\n",
        "    options=[students[0]['name'], students[1]['name'], students[2]['name'], students[3]['name'], students[4]['name'], students[5]['name']],\n",
        "    value=students[0]['name'],\n",
        "    description='Student:',\n",
        "    disabled=False,\n",
        "    style={'description_width': '35%'}\n",
        ")\n",
        "\n",
        "last_name = widgets.Text(\n",
        "    value=students[0]['last name'],\n",
        "    placeholder='Type something',\n",
        "    description='Last Name:',\n",
        "    disabled=True,\n",
        "    style={'description_width': '35%'}\n",
        ")\n",
        "\n",
        "email = widgets.Text(\n",
        "    value=students[0]['email'],\n",
        "    placeholder='Type something',\n",
        "    description='Email:',\n",
        "    disabled=True,\n",
        "    style={'description_width': '35%'}\n",
        ")\n",
        "\n",
        "courses = widgets.Select(\n",
        "    options=students[0]['courses'],\n",
        "    # rows=10,\n",
        "    description='Courses:',\n",
        "    disabled=True,\n",
        "    style={'description_width': '35%'}\n",
        ")\n",
        "\n",
        "link = widgets.Text(\n",
        "    value=students[0]['Link'],\n",
        "    placeholder='Type something',\n",
        "    description='Link:',\n",
        "    disabled=True,\n",
        "    style={'description_width': '35%'}\n",
        ")\n",
        "\n",
        "show = widgets.Text(\n",
        "    value = \"Insert Here\" if 'show' not in students[0] else students[0]['show'],\n",
        "    placeholder = 'Type something',\n",
        "    description = 'Favorite Show:',\n",
        "    disabled=False,\n",
        "    style={'description_width': '35%'}\n",
        ")\n",
        "\n",
        "update = widgets.Button(\n",
        "    description = \"Update!\"\n",
        ")\n",
        "\n",
        "def update_widgets(name):\n",
        "  #Find the student index\n",
        "  index = None\n",
        "  for i, student in enumerate(students):\n",
        "    if student['name'] == name['new']:\n",
        "      index = i\n",
        "      break\n",
        "\n",
        "  #Change form values\n",
        "  if index is not None:\n",
        "    last_name.value = students[index]['last name']\n",
        "    email.value = students[index]['email']\n",
        "    courses.options = students[index]['courses']\n",
        "    link.value = students[index]['Link']\n",
        "    if 'show' in students[index]:\n",
        "      show.value = students[index]['show']\n",
        "\n",
        "def update_student(upd):\n",
        "  if show.value == \"Insert Here\":\n",
        "    print(\"Favorite show hasn't been set.\")\n",
        "    return\n",
        "\n",
        "  #Find the student index\n",
        "  index = None\n",
        "  for i, student in enumerate(students):\n",
        "    if student['name'] == name.value:\n",
        "      index = i\n",
        "      break\n",
        "  \n",
        "  if index is None:\n",
        "    print('Student not found.')\n",
        "    return\n",
        "  \n",
        "  #Add favorite show to the object and update the file\n",
        "  #showDict = {\"show\": show.value}\n",
        "  #students[index].update(showDict)\n",
        "  students[index][\"show\"] = show.value\n",
        "  with open(\"/content/drive/My Drive/students.json\", 'w') as fid:\n",
        "    for student in students:\n",
        "      json.dump(student, fid)\n",
        "      fid.write('\\n')\n",
        "  print(\"Successfuly updated\")\n",
        "\n",
        "name.observe(update_widgets, names='value')\n",
        "update.on_click(update_student)\n",
        "display(name, last_name, email, courses, link, show, update)\n"
      ]
    }
  ]
}