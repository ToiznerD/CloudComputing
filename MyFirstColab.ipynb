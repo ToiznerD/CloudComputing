{
  "nbformat": 4,
  "nbformat_minor": 0,
  "metadata": {
    "colab": {
      "provenance": [],
      "authorship_tag": "ABX9TyOIXdv2muQlmSjk++NJkrhr",
      "include_colab_link": true
    },
    "kernelspec": {
      "name": "python3",
      "display_name": "Python 3"
    },
    "language_info": {
      "name": "python"
    }
  },
  "cells": [
    {
      "cell_type": "markdown",
      "metadata": {
        "id": "view-in-github",
        "colab_type": "text"
      },
      "source": [
        "<a href=\"https://colab.research.google.com/github/ToiznerD/test/blob/main/MyFirstColab.ipynb\" target=\"_parent\"><img src=\"https://colab.research.google.com/assets/colab-badge.svg\" alt=\"Open In Colab\"/></a>"
      ]
    },
    {
      "cell_type": "code",
      "execution_count": null,
      "metadata": {
        "colab": {
          "base_uri": "https://localhost:8080/"
        },
        "id": "Lz3kBqzib-8s",
        "outputId": "4c083dbd-c1b9-4c7d-e11e-413d0c7e0dfe"
      },
      "outputs": [
        {
          "output_type": "stream",
          "name": "stdout",
          "text": [
            "Mon Mar 13 14:50:48 2023\n"
          ]
        }
      ],
      "source": [
        "import time\n",
        "print(time.ctime())"
      ]
    },
    {
      "cell_type": "code",
      "source": [
        "import time\n",
        "print(time.ctime())"
      ],
      "metadata": {
        "colab": {
          "base_uri": "https://localhost:8080/"
        },
        "id": "mvoF6lTyc2JH",
        "outputId": "260c04f5-6c52-4ef9-c64d-913765a47ffe"
      },
      "execution_count": null,
      "outputs": [
        {
          "output_type": "stream",
          "name": "stdout",
          "text": [
            "Mon Mar 13 14:50:48 2023\n"
          ]
        }
      ]
    },
    {
      "cell_type": "code",
      "source": [
        "import time\n",
        "print(time.ctime())"
      ],
      "metadata": {
        "id": "MrlvYbNseF_2",
        "outputId": "78d2f44e-a0ec-481a-9212-44451e260c7a",
        "colab": {
          "base_uri": "https://localhost:8080/"
        }
      },
      "execution_count": 5,
      "outputs": [
        {
          "output_type": "stream",
          "name": "stdout",
          "text": [
            "Mon Mar 13 15:19:24 2023\n"
          ]
        }
      ]
    }
  ]
}