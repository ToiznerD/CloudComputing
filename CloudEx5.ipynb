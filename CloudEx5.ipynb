{
  "nbformat": 4,
  "nbformat_minor": 0,
  "metadata": {
    "colab": {
      "provenance": [],
      "authorship_tag": "ABX9TyNdwOL0jHYPZMbD0nFDwiUK",
      "include_colab_link": true
    },
    "kernelspec": {
      "name": "python3",
      "display_name": "Python 3"
    },
    "language_info": {
      "name": "python"
    }
  },
  "cells": [
    {
      "cell_type": "markdown",
      "metadata": {
        "id": "view-in-github",
        "colab_type": "text"
      },
      "source": [
        "<a href=\"https://colab.research.google.com/github/ToiznerD/CloudComputing/blob/main/CloudEx5.ipynb\" target=\"_parent\"><img src=\"https://colab.research.google.com/assets/colab-badge.svg\" alt=\"Open In Colab\"/></a>"
      ]
    },
    {
      "cell_type": "code",
      "source": [
        "from firebase import firebase\n",
        "from google.colab import drive\n",
        "import json\n",
        "FBconn = firebase.FirebaseApplication('https://cloudcomputing-e1f5d-default-rtdb.firebaseio.com/', None)\n",
        "drive.mount('/content/drive')\n",
        "\n",
        "students = []\n",
        "\n",
        "with open('/content/drive/My Drive/students.json') as fid:\n",
        "  students = json.load(fid)\n",
        "\n",
        "for student in students:\n",
        "  FBconn.post('/Ex5/', student)\n",
        "\n",
        "result = FBconn.get('/Ex5/', None)\n",
        "for key in result:\n",
        "  print(key + \"\\t\" + str(result[key]))"
      ],
      "metadata": {
        "colab": {
          "base_uri": "https://localhost:8080/"
        },
        "id": "3ypgkRyvlojC",
        "outputId": "285852b7-a232-47c0-8fdc-1ee7e3c4ace0"
      },
      "execution_count": 17,
      "outputs": [
        {
          "output_type": "stream",
          "name": "stdout",
          "text": [
            "Drive already mounted at /content/drive; to attempt to forcibly remount, call drive.mount(\"/content/drive\", force_remount=True).\n",
            "-NTndPPtjITXYA3O7La8\t{'Link': 'https://github.com/ToiznerD', 'courses': ['Cloud Computing', 'Compilation', 'Advanced Web'], 'email': 'dor.toizner@e.braude.ac.il', 'last name': 'Toizner', 'name': 'Dort'}\n",
            "-NTndPRXPb4xlOny8vly\t{'Link': 'https://github.com/raz228822', 'courses': ['Cloud Computing', 'Compilation', 'Advanced Web'], 'email': 'raz.ben.aharon@e.braude.ac.il', 'last name': 'Ben-aharon', 'name': 'Raz'}\n",
            "-NTndPWDocxVLA_J9b5P\t{'Link': 'https://edition.cnn.com/2023/04/07/middleeast/israel-palestinian-hamas-conflict-escalation-explained-mime-intl/index.html', 'courses': ['Cloud Computing', 'Compilation', 'Data Mining'], 'email': 'Amit.Vinograd@e.braude.ac.il', 'last name': 'Vinograd', 'name': 'Amit', 'show': 'spongebob'}\n",
            "-NTndPXsSDMAezy6TxgE\t{'Link': 'https://f1tv.formula1.com/', 'courses': ['Intro to AI', 'Data Mining', 'Advanced Web'], 'email': 'avner.ben.shlomo@e.braude.ac.il', 'last name': 'Ben-Shlomo', 'name': 'Avner'}\n",
            "-NTndPbUU0558PQILcJG\t{'Link': 'https://www.ynet.co.il/environment-science/article/bjohpgvbh?utm_source=taboola&utm_medium=referral&utm_content=internal', 'courses': ['Probability', 'Automata', 'Physics'], 'email': 'Omer.haim.ben.shimol@e.braude.ac.il', 'last name': 'Ben-Shimol', 'name': 'Omer'}\n",
            "-NTndPd89w5RunqGfR8V\t{'Link': 'https://www.uefa.com/uefachampionsleague/', 'courses': ['English', 'Physics', 'Compilation'], 'email': 'Dor.Filis@e.braude.ac.il', 'last name': 'Filis', 'name': 'Dor'}\n"
          ]
        }
      ]
    }
  ]
}