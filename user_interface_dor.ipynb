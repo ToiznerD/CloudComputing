{
  "cells": [
    {
      "cell_type": "markdown",
      "metadata": {
        "id": "view-in-github",
        "colab_type": "text"
      },
      "source": [
        "<a href=\"https://colab.research.google.com/github/ToiznerD/CloudComputing/blob/main/user_interface_dor.ipynb\" target=\"_parent\"><img src=\"https://colab.research.google.com/assets/colab-badge.svg\" alt=\"Open In Colab\"/></a>"
      ]
    },
    {
      "cell_type": "code",
      "execution_count": 2,
      "metadata": {
        "colab": {
          "base_uri": "https://localhost:8080/"
        },
        "id": "FK1MRDXtm-VW",
        "outputId": "48e45a09-c069-4205-db5e-84ca3f23e32b"
      },
      "outputs": [
        {
          "output_type": "stream",
          "name": "stdout",
          "text": [
            "Looking in indexes: https://pypi.org/simple, https://us-python.pkg.dev/colab-wheels/public/simple/\n",
            "Collecting firebase\n",
            "  Downloading firebase-4.0.1-py3-none-any.whl (12 kB)\n",
            "Requirement already satisfied: requests in /usr/local/lib/python3.10/dist-packages (from firebase) (2.27.1)\n",
            "Requirement already satisfied: idna<4,>=2.5 in /usr/local/lib/python3.10/dist-packages (from requests->firebase) (3.4)\n",
            "Requirement already satisfied: urllib3<1.27,>=1.21.1 in /usr/local/lib/python3.10/dist-packages (from requests->firebase) (1.26.15)\n",
            "Requirement already satisfied: charset-normalizer~=2.0.0 in /usr/local/lib/python3.10/dist-packages (from requests->firebase) (2.0.12)\n",
            "Requirement already satisfied: certifi>=2017.4.17 in /usr/local/lib/python3.10/dist-packages (from requests->firebase) (2022.12.7)\n",
            "Installing collected packages: firebase\n",
            "Successfully installed firebase-4.0.1\n"
          ]
        }
      ],
      "source": [
        "!pip install firebase"
      ]
    },
    {
      "cell_type": "code",
      "execution_count": null,
      "metadata": {
        "id": "EnFvanXVR6al"
      },
      "outputs": [],
      "source": []
    },
    {
      "cell_type": "code",
      "source": [
        "from zmq.constants import THREAD_AFFINITY_CPU_REMOVE\n",
        "import json\n",
        "from firebase import firebase\n",
        "import IPython\n",
        "from IPython.display import HTML\n",
        "from google.colab import output, drive\n",
        "from IPython.display import clear_output\n",
        "from IPython.display import Markdown\n",
        "import time\n",
        "import ipywidgets as widgets\n",
        "from google.colab.output import _publish as publish\n",
        "\n",
        "def logo():\n",
        "  display(IPython.display.HTML(''' <h1> Ipypy</h1> '''))\n",
        "\n",
        "def buildQuestion(qnum, question, ans):\n",
        "  str = f'<body>'\n",
        "\n",
        "  str += f'<h2> Question #{qnum} </h2>'\n",
        "  str += f'<h2> {question} </h2>'\n",
        "  for i, a in enumerate(ans):\n",
        "    str += f'<h2>{i+1}. {a} </h2>'\n",
        "  str += f'<h2> What is your answer? </h2>'\n",
        "\n",
        "  return str\n",
        "\n",
        "# Get style\n",
        "drive.mount('/content/drive', force_remount=True)\n",
        "with open('/content/drive/My Drive/MyStyles/style.css') as fid:\n",
        "  style = fid.read()\n",
        "\n",
        "flag = 0\n",
        "ans = 0\n",
        "FBconn = firebase.FirebaseApplication('https://cloudcomputing-e1f5d-default-rtdb.firebaseio.com/',None)\n",
        "res=FBconn.get('/Questions/',None)\n",
        "questions = []\n",
        "right=0\n",
        "wro=0\n",
        "q = 1\n",
        "\n",
        "for key in res:\n",
        "    questions.append(res[key])\n",
        "\n",
        "# Loading window\n",
        "\n",
        "# publish style\n",
        "publish.css(style)\n",
        "display(IPython.display.HTML('''\n",
        "<html>\n",
        "  <head>\n",
        "    <h1> Ipypy</h1>\n",
        "    <h2>level 1</h2>\n",
        "  </head>\n",
        "  <body>\n",
        "\n",
        "    <!-- Loading bar -->\n",
        "    <div id=\"loading-bar\">\n",
        "      <div id=\"loading-progress\"></div>\n",
        "    </div>\n",
        "\n",
        "    <!-- JavaScript code to simulate loading the game -->\n",
        "    <script>\n",
        "      var progress = 0;\n",
        "      var loading = setInterval(function() {\n",
        "        progress += Math.floor(Math.random() * 10); // simulate progress\n",
        "        document.getElementById('loading-progress').style.width = progress + '%';\n",
        "        if (progress >= 100) {\n",
        "          clearInterval(loading); // stop the interval when progress reaches 100%\n",
        "        }\n",
        "      }, 500);\n",
        "    </script>\n",
        "  </body>\n",
        "</html>\n",
        "'''))\n",
        "\n",
        "time.sleep(12)\n",
        "\n",
        "# Clear loading window\n",
        "clear_output(wait=True)\n",
        "\n",
        "# Start game\n",
        "for x in questions:\n",
        "  publish.css(style)\n",
        "\n",
        "  # Present logo\n",
        "  logo()\n",
        "  \n",
        "  # Present question\n",
        "  html = buildQuestion(q, x['question'], [x['ans1'], x['ans2'], x['ans3'], x['ans4']])\n",
        "  q += 1\n",
        "  display(HTML(html))   \n",
        "\n",
        "  # Validate answer\n",
        "  ans = int(input())\n",
        "  if(ans==5):\n",
        "    break\n",
        "  elif ans == x['correct']:\n",
        "    right+=1\n",
        "    html_text = f'<h3> Correct! </h3>'\n",
        "    display(HTML(html_text))  \n",
        "    time.sleep(2)\n",
        "  else:\n",
        "    wro+=1\n",
        "    html_text = f'<h4> Wrong! </h4>'\n",
        "    display(HTML(html_text))  \n",
        "    time.sleep(2)\n",
        "\n",
        "  # Clear the screen\n",
        "  clear_output(wait=True)\n",
        "\n",
        "# End game\n",
        "publish.css(style)\n",
        "logo()\n",
        "html_text = f'<h5> Correct Answers: {right} </h5>'\n",
        "display(HTML(html_text))  \n",
        "\n",
        "html_text = f'<h4> Wrong Answers: {wro} </h4>'\n",
        "display(HTML(html_text))  \n"
      ],
      "metadata": {
        "id": "C6DC-6jz9SXa",
        "outputId": "b596d433-f600-4559-8115-5687ed5988c0",
        "colab": {
          "base_uri": "https://localhost:8080/",
          "height": 419
        }
      },
      "execution_count": 31,
      "outputs": [
        {
          "output_type": "display_data",
          "data": {
            "text/plain": [
              "<IPython.core.display.HTML object>"
            ],
            "text/html": [
              "<style>body {\n",
              "  background-image: url(\"https://img.freepik.com/premium-photo/grunge-wood-panels-texture_174699-4.jpg\");\n",
              "}\n",
              "\n",
              "h2 {\n",
              "  font-weight: bold;\n",
              "  font-style: italic;\n",
              "  font-family: 'Pacifico', cursive;\n",
              "  font-size: 40px;\n",
              "  text-shadow: 2px 2px #000000;\n",
              "  color: #FFD700;\n",
              "  text-align: center;\n",
              "  margin-top: 50px;\n",
              "}\n",
              "\n",
              "h1  {\n",
              "  color: #FFD700;\n",
              "  text-align: center;\n",
              "  font-family: 'Montserrat', sans-serif;\n",
              "  font-size: 5em;\n",
              "  text-transform: uppercase;\n",
              "  letter-spacing: 0.1em;\n",
              "  text-shadow: 0 0 5px #fff, 0 0 10px #fff, 0 0 15px #fff, 0 0 20px #ff00de, 0 0 30px #ff00de, 0 0 40px #ff00de, 0 0 55px #ff00de;\n",
              "  padding: 20px;\n",
              "  border-radius: 20px;\n",
              "}\n",
              "\n",
              "#loading-bar {\n",
              "      width: 200px;\n",
              "      height: 20px;\n",
              "      background-color: #eee;\n",
              "      border-radius: 5px;\n",
              "      margin: 50px auto;\n",
              "      position: relative;\n",
              "    }\n",
              "#loading-progress {\n",
              "      width: 0%;\n",
              "      height: 100%;\n",
              "      background-color: #06c;\n",
              "      border-radius: 5px;\n",
              "      position: absolute;\n",
              "      top: 0;\n",
              "      left: 0;\n",
              "      transition: width 1s ease-in-out;\n",
              "    }\n",
              "\n",
              "h3\n",
              "   {\n",
              "    color: green ;\n",
              "    text-align: center;\n",
              "    font-family: 'Pacifico', cursive;\n",
              "    font-size: 50px;\n",
              "    text-shadow: 2px 2px #000000;\n",
              "    margin-top: 50px;\n",
              "  }\n",
              "h4\n",
              "  {\n",
              "    color: red;\n",
              "    font-family: 'Pacifico', cursive;\n",
              "    font-size: 50px;\n",
              "    text-shadow: 2px 2px #000000;\n",
              "    text-align: center;\n",
              "    margin-top: 50px;\n",
              "\n",
              "  }\n",
              "h5\n",
              "  {\n",
              "  color: green;\n",
              "  text-align: center;\n",
              "  font-family: 'Pacifico', cursive;\n",
              "  font-size: 50px;\n",
              "  text-shadow: 2px 2px #000000;\n",
              "  margin-top: 50px;\n",
              "  }</style>"
            ]
          },
          "metadata": {}
        },
        {
          "output_type": "display_data",
          "data": {
            "text/plain": [
              "<IPython.core.display.HTML object>"
            ],
            "text/html": [
              " <h1> Ipypy</h1> "
            ]
          },
          "metadata": {}
        },
        {
          "output_type": "display_data",
          "data": {
            "text/plain": [
              "<IPython.core.display.HTML object>"
            ],
            "text/html": [
              "<h5> Correct Answers: 2 </h5>"
            ]
          },
          "metadata": {}
        },
        {
          "output_type": "display_data",
          "data": {
            "text/plain": [
              "<IPython.core.display.HTML object>"
            ],
            "text/html": [
              "<h4> Wrong Answers: 1 </h4>"
            ]
          },
          "metadata": {}
        }
      ]
    }
  ],
  "metadata": {
    "colab": {
      "provenance": [],
      "include_colab_link": true
    },
    "kernelspec": {
      "display_name": "Python 3",
      "name": "python3"
    },
    "language_info": {
      "name": "python"
    }
  },
  "nbformat": 4,
  "nbformat_minor": 0
}