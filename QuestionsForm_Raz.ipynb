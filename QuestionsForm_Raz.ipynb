{
  "nbformat": 4,
  "nbformat_minor": 0,
  "metadata": {
    "colab": {
      "provenance": [],
      "mount_file_id": "1sA-n71ruQQ8zaYP7GGRxFq03LCqopT9m",
      "authorship_tag": "ABX9TyPlfKbuSciaadj8kQI36e0t",
      "include_colab_link": true
    },
    "kernelspec": {
      "name": "python3",
      "display_name": "Python 3"
    },
    "language_info": {
      "name": "python"
    },
    "widgets": {
      "application/vnd.jupyter.widget-state+json": {
        "bd4c4559336f40a19031b6377f487314": {
          "model_module": "@jupyter-widgets/controls",
          "model_name": "TextareaModel",
          "model_module_version": "1.5.0",
          "state": {
            "_dom_classes": [],
            "_model_module": "@jupyter-widgets/controls",
            "_model_module_version": "1.5.0",
            "_model_name": "TextareaModel",
            "_view_count": null,
            "_view_module": "@jupyter-widgets/controls",
            "_view_module_version": "1.5.0",
            "_view_name": "TextareaView",
            "continuous_update": true,
            "description": "Question:",
            "description_tooltip": null,
            "disabled": false,
            "layout": "IPY_MODEL_57a83bf9921743bd8d8c2df509109418",
            "placeholder": "​",
            "rows": null,
            "style": "IPY_MODEL_cd025be9fb3642e09bc6d160d451df21",
            "value": ""
          }
        },
        "57a83bf9921743bd8d8c2df509109418": {
          "model_module": "@jupyter-widgets/base",
          "model_name": "LayoutModel",
          "model_module_version": "1.2.0",
          "state": {
            "_model_module": "@jupyter-widgets/base",
            "_model_module_version": "1.2.0",
            "_model_name": "LayoutModel",
            "_view_count": null,
            "_view_module": "@jupyter-widgets/base",
            "_view_module_version": "1.2.0",
            "_view_name": "LayoutView",
            "align_content": null,
            "align_items": null,
            "align_self": null,
            "border": null,
            "bottom": null,
            "display": null,
            "flex": null,
            "flex_flow": null,
            "grid_area": null,
            "grid_auto_columns": null,
            "grid_auto_flow": null,
            "grid_auto_rows": null,
            "grid_column": null,
            "grid_gap": null,
            "grid_row": null,
            "grid_template_areas": null,
            "grid_template_columns": null,
            "grid_template_rows": null,
            "height": "100px",
            "justify_content": null,
            "justify_items": null,
            "left": null,
            "margin": null,
            "max_height": null,
            "max_width": null,
            "min_height": null,
            "min_width": null,
            "object_fit": null,
            "object_position": null,
            "order": null,
            "overflow": null,
            "overflow_x": null,
            "overflow_y": null,
            "padding": null,
            "right": null,
            "top": null,
            "visibility": null,
            "width": "500px"
          }
        },
        "cd025be9fb3642e09bc6d160d451df21": {
          "model_module": "@jupyter-widgets/controls",
          "model_name": "DescriptionStyleModel",
          "model_module_version": "1.5.0",
          "state": {
            "_model_module": "@jupyter-widgets/controls",
            "_model_module_version": "1.5.0",
            "_model_name": "DescriptionStyleModel",
            "_view_count": null,
            "_view_module": "@jupyter-widgets/base",
            "_view_module_version": "1.2.0",
            "_view_name": "StyleView",
            "description_width": ""
          }
        },
        "51c451d927db4ab5b13601968ac76922": {
          "model_module": "@jupyter-widgets/controls",
          "model_name": "TextModel",
          "model_module_version": "1.5.0",
          "state": {
            "_dom_classes": [],
            "_model_module": "@jupyter-widgets/controls",
            "_model_module_version": "1.5.0",
            "_model_name": "TextModel",
            "_view_count": null,
            "_view_module": "@jupyter-widgets/controls",
            "_view_module_version": "1.5.0",
            "_view_name": "TextView",
            "continuous_update": true,
            "description": "Answer #1:",
            "description_tooltip": null,
            "disabled": false,
            "layout": "IPY_MODEL_f10dd850b04e46d9a4984344f022226f",
            "placeholder": "​",
            "style": "IPY_MODEL_712f639754414e05b1887c0619bfe7dd",
            "value": ""
          }
        },
        "f10dd850b04e46d9a4984344f022226f": {
          "model_module": "@jupyter-widgets/base",
          "model_name": "LayoutModel",
          "model_module_version": "1.2.0",
          "state": {
            "_model_module": "@jupyter-widgets/base",
            "_model_module_version": "1.2.0",
            "_model_name": "LayoutModel",
            "_view_count": null,
            "_view_module": "@jupyter-widgets/base",
            "_view_module_version": "1.2.0",
            "_view_name": "LayoutView",
            "align_content": null,
            "align_items": null,
            "align_self": null,
            "border": null,
            "bottom": null,
            "display": null,
            "flex": null,
            "flex_flow": null,
            "grid_area": null,
            "grid_auto_columns": null,
            "grid_auto_flow": null,
            "grid_auto_rows": null,
            "grid_column": null,
            "grid_gap": null,
            "grid_row": null,
            "grid_template_areas": null,
            "grid_template_columns": null,
            "grid_template_rows": null,
            "height": null,
            "justify_content": null,
            "justify_items": null,
            "left": null,
            "margin": null,
            "max_height": null,
            "max_width": null,
            "min_height": null,
            "min_width": null,
            "object_fit": null,
            "object_position": null,
            "order": null,
            "overflow": null,
            "overflow_x": null,
            "overflow_y": null,
            "padding": null,
            "right": null,
            "top": null,
            "visibility": null,
            "width": "300px"
          }
        },
        "712f639754414e05b1887c0619bfe7dd": {
          "model_module": "@jupyter-widgets/controls",
          "model_name": "DescriptionStyleModel",
          "model_module_version": "1.5.0",
          "state": {
            "_model_module": "@jupyter-widgets/controls",
            "_model_module_version": "1.5.0",
            "_model_name": "DescriptionStyleModel",
            "_view_count": null,
            "_view_module": "@jupyter-widgets/base",
            "_view_module_version": "1.2.0",
            "_view_name": "StyleView",
            "description_width": ""
          }
        },
        "a379d8bd035a46dd82c5397c92ec47be": {
          "model_module": "@jupyter-widgets/controls",
          "model_name": "TextModel",
          "model_module_version": "1.5.0",
          "state": {
            "_dom_classes": [],
            "_model_module": "@jupyter-widgets/controls",
            "_model_module_version": "1.5.0",
            "_model_name": "TextModel",
            "_view_count": null,
            "_view_module": "@jupyter-widgets/controls",
            "_view_module_version": "1.5.0",
            "_view_name": "TextView",
            "continuous_update": true,
            "description": "Answer #2:",
            "description_tooltip": null,
            "disabled": false,
            "layout": "IPY_MODEL_22d9f9e3884849d88a114c806f0e662a",
            "placeholder": "​",
            "style": "IPY_MODEL_f3348471d11a4886aa0495fc44fb9bea",
            "value": ""
          }
        },
        "22d9f9e3884849d88a114c806f0e662a": {
          "model_module": "@jupyter-widgets/base",
          "model_name": "LayoutModel",
          "model_module_version": "1.2.0",
          "state": {
            "_model_module": "@jupyter-widgets/base",
            "_model_module_version": "1.2.0",
            "_model_name": "LayoutModel",
            "_view_count": null,
            "_view_module": "@jupyter-widgets/base",
            "_view_module_version": "1.2.0",
            "_view_name": "LayoutView",
            "align_content": null,
            "align_items": null,
            "align_self": null,
            "border": null,
            "bottom": null,
            "display": null,
            "flex": null,
            "flex_flow": null,
            "grid_area": null,
            "grid_auto_columns": null,
            "grid_auto_flow": null,
            "grid_auto_rows": null,
            "grid_column": null,
            "grid_gap": null,
            "grid_row": null,
            "grid_template_areas": null,
            "grid_template_columns": null,
            "grid_template_rows": null,
            "height": null,
            "justify_content": null,
            "justify_items": null,
            "left": null,
            "margin": null,
            "max_height": null,
            "max_width": null,
            "min_height": null,
            "min_width": null,
            "object_fit": null,
            "object_position": null,
            "order": null,
            "overflow": null,
            "overflow_x": null,
            "overflow_y": null,
            "padding": null,
            "right": null,
            "top": null,
            "visibility": null,
            "width": "300px"
          }
        },
        "f3348471d11a4886aa0495fc44fb9bea": {
          "model_module": "@jupyter-widgets/controls",
          "model_name": "DescriptionStyleModel",
          "model_module_version": "1.5.0",
          "state": {
            "_model_module": "@jupyter-widgets/controls",
            "_model_module_version": "1.5.0",
            "_model_name": "DescriptionStyleModel",
            "_view_count": null,
            "_view_module": "@jupyter-widgets/base",
            "_view_module_version": "1.2.0",
            "_view_name": "StyleView",
            "description_width": ""
          }
        },
        "9304ba378c8547dbb768c7397367168b": {
          "model_module": "@jupyter-widgets/controls",
          "model_name": "TextModel",
          "model_module_version": "1.5.0",
          "state": {
            "_dom_classes": [],
            "_model_module": "@jupyter-widgets/controls",
            "_model_module_version": "1.5.0",
            "_model_name": "TextModel",
            "_view_count": null,
            "_view_module": "@jupyter-widgets/controls",
            "_view_module_version": "1.5.0",
            "_view_name": "TextView",
            "continuous_update": true,
            "description": "Answer #3:",
            "description_tooltip": null,
            "disabled": false,
            "layout": "IPY_MODEL_641700c9bc0c442ab3edafd01080d75a",
            "placeholder": "​",
            "style": "IPY_MODEL_a6e4133cc7534050bf3b2a26bc690dbd",
            "value": ""
          }
        },
        "641700c9bc0c442ab3edafd01080d75a": {
          "model_module": "@jupyter-widgets/base",
          "model_name": "LayoutModel",
          "model_module_version": "1.2.0",
          "state": {
            "_model_module": "@jupyter-widgets/base",
            "_model_module_version": "1.2.0",
            "_model_name": "LayoutModel",
            "_view_count": null,
            "_view_module": "@jupyter-widgets/base",
            "_view_module_version": "1.2.0",
            "_view_name": "LayoutView",
            "align_content": null,
            "align_items": null,
            "align_self": null,
            "border": null,
            "bottom": null,
            "display": null,
            "flex": null,
            "flex_flow": null,
            "grid_area": null,
            "grid_auto_columns": null,
            "grid_auto_flow": null,
            "grid_auto_rows": null,
            "grid_column": null,
            "grid_gap": null,
            "grid_row": null,
            "grid_template_areas": null,
            "grid_template_columns": null,
            "grid_template_rows": null,
            "height": null,
            "justify_content": null,
            "justify_items": null,
            "left": null,
            "margin": null,
            "max_height": null,
            "max_width": null,
            "min_height": null,
            "min_width": null,
            "object_fit": null,
            "object_position": null,
            "order": null,
            "overflow": null,
            "overflow_x": null,
            "overflow_y": null,
            "padding": null,
            "right": null,
            "top": null,
            "visibility": null,
            "width": "300px"
          }
        },
        "a6e4133cc7534050bf3b2a26bc690dbd": {
          "model_module": "@jupyter-widgets/controls",
          "model_name": "DescriptionStyleModel",
          "model_module_version": "1.5.0",
          "state": {
            "_model_module": "@jupyter-widgets/controls",
            "_model_module_version": "1.5.0",
            "_model_name": "DescriptionStyleModel",
            "_view_count": null,
            "_view_module": "@jupyter-widgets/base",
            "_view_module_version": "1.2.0",
            "_view_name": "StyleView",
            "description_width": ""
          }
        },
        "99b7cf87b5824136adba225160617524": {
          "model_module": "@jupyter-widgets/controls",
          "model_name": "TextModel",
          "model_module_version": "1.5.0",
          "state": {
            "_dom_classes": [],
            "_model_module": "@jupyter-widgets/controls",
            "_model_module_version": "1.5.0",
            "_model_name": "TextModel",
            "_view_count": null,
            "_view_module": "@jupyter-widgets/controls",
            "_view_module_version": "1.5.0",
            "_view_name": "TextView",
            "continuous_update": true,
            "description": "Answer #4:",
            "description_tooltip": null,
            "disabled": false,
            "layout": "IPY_MODEL_293affcace6b4851aab535e4dd1ca11f",
            "placeholder": "​",
            "style": "IPY_MODEL_eef26ef9965e43beb463c34999b22048",
            "value": ""
          }
        },
        "293affcace6b4851aab535e4dd1ca11f": {
          "model_module": "@jupyter-widgets/base",
          "model_name": "LayoutModel",
          "model_module_version": "1.2.0",
          "state": {
            "_model_module": "@jupyter-widgets/base",
            "_model_module_version": "1.2.0",
            "_model_name": "LayoutModel",
            "_view_count": null,
            "_view_module": "@jupyter-widgets/base",
            "_view_module_version": "1.2.0",
            "_view_name": "LayoutView",
            "align_content": null,
            "align_items": null,
            "align_self": null,
            "border": null,
            "bottom": null,
            "display": null,
            "flex": null,
            "flex_flow": null,
            "grid_area": null,
            "grid_auto_columns": null,
            "grid_auto_flow": null,
            "grid_auto_rows": null,
            "grid_column": null,
            "grid_gap": null,
            "grid_row": null,
            "grid_template_areas": null,
            "grid_template_columns": null,
            "grid_template_rows": null,
            "height": null,
            "justify_content": null,
            "justify_items": null,
            "left": null,
            "margin": null,
            "max_height": null,
            "max_width": null,
            "min_height": null,
            "min_width": null,
            "object_fit": null,
            "object_position": null,
            "order": null,
            "overflow": null,
            "overflow_x": null,
            "overflow_y": null,
            "padding": null,
            "right": null,
            "top": null,
            "visibility": null,
            "width": "300px"
          }
        },
        "eef26ef9965e43beb463c34999b22048": {
          "model_module": "@jupyter-widgets/controls",
          "model_name": "DescriptionStyleModel",
          "model_module_version": "1.5.0",
          "state": {
            "_model_module": "@jupyter-widgets/controls",
            "_model_module_version": "1.5.0",
            "_model_name": "DescriptionStyleModel",
            "_view_count": null,
            "_view_module": "@jupyter-widgets/base",
            "_view_module_version": "1.2.0",
            "_view_name": "StyleView",
            "description_width": ""
          }
        },
        "c8e1a0eb5ccf4775a8cc309e74c5cc08": {
          "model_module": "@jupyter-widgets/controls",
          "model_name": "DropdownModel",
          "model_module_version": "1.5.0",
          "state": {
            "_dom_classes": [],
            "_model_module": "@jupyter-widgets/controls",
            "_model_module_version": "1.5.0",
            "_model_name": "DropdownModel",
            "_options_labels": [
              "1",
              "2",
              "3",
              "4"
            ],
            "_view_count": null,
            "_view_module": "@jupyter-widgets/controls",
            "_view_module_version": "1.5.0",
            "_view_name": "DropdownView",
            "description": "Correct Answer:",
            "description_tooltip": null,
            "disabled": false,
            "index": 0,
            "layout": "IPY_MODEL_ea76c62bf720463ea7bff4bedbba2bc7",
            "style": "IPY_MODEL_da086cf120494166ab836021e37dc58f"
          }
        },
        "ea76c62bf720463ea7bff4bedbba2bc7": {
          "model_module": "@jupyter-widgets/base",
          "model_name": "LayoutModel",
          "model_module_version": "1.2.0",
          "state": {
            "_model_module": "@jupyter-widgets/base",
            "_model_module_version": "1.2.0",
            "_model_name": "LayoutModel",
            "_view_count": null,
            "_view_module": "@jupyter-widgets/base",
            "_view_module_version": "1.2.0",
            "_view_name": "LayoutView",
            "align_content": null,
            "align_items": null,
            "align_self": null,
            "border": null,
            "bottom": null,
            "display": null,
            "flex": null,
            "flex_flow": null,
            "grid_area": null,
            "grid_auto_columns": null,
            "grid_auto_flow": null,
            "grid_auto_rows": null,
            "grid_column": null,
            "grid_gap": null,
            "grid_row": null,
            "grid_template_areas": null,
            "grid_template_columns": null,
            "grid_template_rows": null,
            "height": null,
            "justify_content": null,
            "justify_items": null,
            "left": null,
            "margin": null,
            "max_height": null,
            "max_width": null,
            "min_height": null,
            "min_width": null,
            "object_fit": null,
            "object_position": null,
            "order": null,
            "overflow": null,
            "overflow_x": null,
            "overflow_y": null,
            "padding": null,
            "right": null,
            "top": null,
            "visibility": null,
            "width": "150px"
          }
        },
        "da086cf120494166ab836021e37dc58f": {
          "model_module": "@jupyter-widgets/controls",
          "model_name": "DescriptionStyleModel",
          "model_module_version": "1.5.0",
          "state": {
            "_model_module": "@jupyter-widgets/controls",
            "_model_module_version": "1.5.0",
            "_model_name": "DescriptionStyleModel",
            "_view_count": null,
            "_view_module": "@jupyter-widgets/base",
            "_view_module_version": "1.2.0",
            "_view_name": "StyleView",
            "description_width": "initial"
          }
        },
        "3ffc2b0d3f434b54bcca0656ed9e2127": {
          "model_module": "@jupyter-widgets/controls",
          "model_name": "ButtonModel",
          "model_module_version": "1.5.0",
          "state": {
            "_dom_classes": [],
            "_model_module": "@jupyter-widgets/controls",
            "_model_module_version": "1.5.0",
            "_model_name": "ButtonModel",
            "_view_count": null,
            "_view_module": "@jupyter-widgets/controls",
            "_view_module_version": "1.5.0",
            "_view_name": "ButtonView",
            "button_style": "",
            "description": "Add / Edit Question",
            "disabled": false,
            "icon": "",
            "layout": "IPY_MODEL_02eaa353919243b88c1d1c40b1d277cb",
            "style": "IPY_MODEL_6372cae5ad21404a8f7c9542f63385cb",
            "tooltip": ""
          }
        },
        "02eaa353919243b88c1d1c40b1d277cb": {
          "model_module": "@jupyter-widgets/base",
          "model_name": "LayoutModel",
          "model_module_version": "1.2.0",
          "state": {
            "_model_module": "@jupyter-widgets/base",
            "_model_module_version": "1.2.0",
            "_model_name": "LayoutModel",
            "_view_count": null,
            "_view_module": "@jupyter-widgets/base",
            "_view_module_version": "1.2.0",
            "_view_name": "LayoutView",
            "align_content": null,
            "align_items": null,
            "align_self": null,
            "border": null,
            "bottom": null,
            "display": null,
            "flex": null,
            "flex_flow": null,
            "grid_area": null,
            "grid_auto_columns": null,
            "grid_auto_flow": null,
            "grid_auto_rows": null,
            "grid_column": null,
            "grid_gap": null,
            "grid_row": null,
            "grid_template_areas": null,
            "grid_template_columns": null,
            "grid_template_rows": null,
            "height": null,
            "justify_content": null,
            "justify_items": null,
            "left": null,
            "margin": null,
            "max_height": null,
            "max_width": null,
            "min_height": null,
            "min_width": null,
            "object_fit": null,
            "object_position": null,
            "order": null,
            "overflow": null,
            "overflow_x": null,
            "overflow_y": null,
            "padding": null,
            "right": null,
            "top": null,
            "visibility": null,
            "width": null
          }
        },
        "6372cae5ad21404a8f7c9542f63385cb": {
          "model_module": "@jupyter-widgets/controls",
          "model_name": "ButtonStyleModel",
          "model_module_version": "1.5.0",
          "state": {
            "_model_module": "@jupyter-widgets/controls",
            "_model_module_version": "1.5.0",
            "_model_name": "ButtonStyleModel",
            "_view_count": null,
            "_view_module": "@jupyter-widgets/base",
            "_view_module_version": "1.2.0",
            "_view_name": "StyleView",
            "button_color": null,
            "font_weight": ""
          }
        },
        "a65c5b4c8238443e8487cb413377bc48": {
          "model_module": "@jupyter-widgets/controls",
          "model_name": "LabelModel",
          "model_module_version": "1.5.0",
          "state": {
            "_dom_classes": [],
            "_model_module": "@jupyter-widgets/controls",
            "_model_module_version": "1.5.0",
            "_model_name": "LabelModel",
            "_view_count": null,
            "_view_module": "@jupyter-widgets/controls",
            "_view_module_version": "1.5.0",
            "_view_name": "LabelView",
            "description": "",
            "description_tooltip": null,
            "layout": "IPY_MODEL_60ad497e334c4bec869b7f67f580ba22",
            "placeholder": "​",
            "style": "IPY_MODEL_31fb3522f33b4c92b609083731d22249",
            "value": ""
          }
        },
        "60ad497e334c4bec869b7f67f580ba22": {
          "model_module": "@jupyter-widgets/base",
          "model_name": "LayoutModel",
          "model_module_version": "1.2.0",
          "state": {
            "_model_module": "@jupyter-widgets/base",
            "_model_module_version": "1.2.0",
            "_model_name": "LayoutModel",
            "_view_count": null,
            "_view_module": "@jupyter-widgets/base",
            "_view_module_version": "1.2.0",
            "_view_name": "LayoutView",
            "align_content": null,
            "align_items": null,
            "align_self": null,
            "border": null,
            "bottom": null,
            "display": null,
            "flex": null,
            "flex_flow": null,
            "grid_area": null,
            "grid_auto_columns": null,
            "grid_auto_flow": null,
            "grid_auto_rows": null,
            "grid_column": null,
            "grid_gap": null,
            "grid_row": null,
            "grid_template_areas": null,
            "grid_template_columns": null,
            "grid_template_rows": null,
            "height": null,
            "justify_content": null,
            "justify_items": null,
            "left": null,
            "margin": null,
            "max_height": null,
            "max_width": null,
            "min_height": null,
            "min_width": null,
            "object_fit": null,
            "object_position": null,
            "order": null,
            "overflow": null,
            "overflow_x": null,
            "overflow_y": null,
            "padding": null,
            "right": null,
            "top": null,
            "visibility": null,
            "width": null
          }
        },
        "31fb3522f33b4c92b609083731d22249": {
          "model_module": "@jupyter-widgets/controls",
          "model_name": "DescriptionStyleModel",
          "model_module_version": "1.5.0",
          "state": {
            "_model_module": "@jupyter-widgets/controls",
            "_model_module_version": "1.5.0",
            "_model_name": "DescriptionStyleModel",
            "_view_count": null,
            "_view_module": "@jupyter-widgets/base",
            "_view_module_version": "1.2.0",
            "_view_name": "StyleView",
            "description_width": ""
          }
        },
        "b5243e1a9bcf4dcd9f56146723bbf362": {
          "model_module": "@jupyter-widgets/controls",
          "model_name": "DropdownModel",
          "model_module_version": "1.5.0",
          "state": {
            "_dom_classes": [],
            "_model_module": "@jupyter-widgets/controls",
            "_model_module_version": "1.5.0",
            "_model_name": "DropdownModel",
            "_options_labels": [
              "How are me",
              "dfssdf",
              "gfdgdf",
              "Complete : 'for i in _________:'",
              "",
              "What day is it?"
            ],
            "_view_count": null,
            "_view_module": "@jupyter-widgets/controls",
            "_view_module_version": "1.5.0",
            "_view_name": "DropdownView",
            "description": "",
            "description_tooltip": null,
            "disabled": false,
            "index": 0,
            "layout": "IPY_MODEL_c59b52a7aa4a444cbf8cc04566e6f829",
            "style": "IPY_MODEL_dcc531568965454e8776a4f0aeb4e92d"
          }
        },
        "c59b52a7aa4a444cbf8cc04566e6f829": {
          "model_module": "@jupyter-widgets/base",
          "model_name": "LayoutModel",
          "model_module_version": "1.2.0",
          "state": {
            "_model_module": "@jupyter-widgets/base",
            "_model_module_version": "1.2.0",
            "_model_name": "LayoutModel",
            "_view_count": null,
            "_view_module": "@jupyter-widgets/base",
            "_view_module_version": "1.2.0",
            "_view_name": "LayoutView",
            "align_content": null,
            "align_items": null,
            "align_self": null,
            "border": null,
            "bottom": null,
            "display": null,
            "flex": null,
            "flex_flow": null,
            "grid_area": null,
            "grid_auto_columns": null,
            "grid_auto_flow": null,
            "grid_auto_rows": null,
            "grid_column": null,
            "grid_gap": null,
            "grid_row": null,
            "grid_template_areas": null,
            "grid_template_columns": null,
            "grid_template_rows": null,
            "height": null,
            "justify_content": null,
            "justify_items": null,
            "left": null,
            "margin": null,
            "max_height": null,
            "max_width": null,
            "min_height": null,
            "min_width": null,
            "object_fit": null,
            "object_position": null,
            "order": null,
            "overflow": null,
            "overflow_x": null,
            "overflow_y": null,
            "padding": null,
            "right": null,
            "top": null,
            "visibility": null,
            "width": null
          }
        },
        "dcc531568965454e8776a4f0aeb4e92d": {
          "model_module": "@jupyter-widgets/controls",
          "model_name": "DescriptionStyleModel",
          "model_module_version": "1.5.0",
          "state": {
            "_model_module": "@jupyter-widgets/controls",
            "_model_module_version": "1.5.0",
            "_model_name": "DescriptionStyleModel",
            "_view_count": null,
            "_view_module": "@jupyter-widgets/base",
            "_view_module_version": "1.2.0",
            "_view_name": "StyleView",
            "description_width": ""
          }
        }
      }
    }
  },
  "cells": [
    {
      "cell_type": "markdown",
      "metadata": {
        "id": "view-in-github",
        "colab_type": "text"
      },
      "source": [
        "<a href=\"https://colab.research.google.com/github/ToiznerD/CloudComputing/blob/main/QuestionsForm_Raz.ipynb\" target=\"_parent\"><img src=\"https://colab.research.google.com/assets/colab-badge.svg\" alt=\"Open In Colab\"/></a>"
      ]
    },
    {
      "cell_type": "code",
      "source": [
        "from firebase import firebase\n",
        "from google.colab import drive\n",
        "import json\n",
        "import ipywidgets as widgets\n",
        "import time\n",
        "import firebase_admin\n",
        "from firebase_admin import credentials\n",
        "from firebase_admin import firestore, db\n",
        "\n",
        "#FBconn = firebase.FirebaseApplication('https://cloudcomputing-e1f5d-default-rtdb.firebaseio.com/', None)\n",
        "\n",
        "# Connect to DB\n",
        "accessDB = db.reference('Questions/', app=firebase_admin.get_app(name=\"abc\"))\n",
        "\n",
        "# Getting number of question in DB\n",
        "questionsNum = accessDB.child('Count').get()['i']\n",
        "\n",
        "# Increase amount of questions in DB\n",
        "questionsNum += 1\n",
        "\n",
        "def button_eventhandler(obj):\n",
        "\n",
        "    # Saving correct answer in DB as string\n",
        "    correct = ''\n",
        "    match(int(correct_answer.value)):\n",
        "        case 1:\n",
        "          correct = answer_1.value\n",
        "        case 2:\n",
        "          correct = answer_2.value\n",
        "        case 3:\n",
        "          correct = answer_3.value\n",
        "        case 4:\n",
        "          correct = answer_4.value\n",
        "\n",
        "    # Insert a question to DB and increase the number of questions(counter)\n",
        "    accessDB.update({\n",
        "        questionsNum : {\n",
        "          'question' : question.value,\n",
        "          'correct' : correct,\n",
        "          'ans1' : answer_1.value,\n",
        "          'ans2' : answer_2.value,\n",
        "          'ans3' : answer_3.value,\n",
        "          'ans4' : answer_4.value \n",
        "        },\n",
        "        'Count': {'i': questionsNum}\n",
        "    })\n",
        "\n",
        "    #FBconn.post('/Questions/', question_to_upload)\n",
        "    label.value = 'Question \"' + question.value + '\" sent to DB successfuly'\n",
        "    reset_fields()\n",
        "    time.sleep(5)\n",
        "    label.value = ''\n",
        "\n",
        "# Reset text-boxes input\n",
        "def reset_fields():\n",
        "    question.value = ''\n",
        "    answer_1.value = ''\n",
        "    answer_2.value = ''\n",
        "    answer_3.value = ''\n",
        "    answer_4.value = ''\n",
        "    correct_answer.value = '1'\n",
        "\n",
        "def fill_fields(change):\n",
        "  #Find the student index\n",
        "  index = None\n",
        "  for i, q in enumerate(questions):\n",
        "    if q == change['new']:\n",
        "      index = i + 1\n",
        "      question.value = q\n",
        "      answer_1.value = questionsDict[str(index)]['ans1']\n",
        "      answer_2.value = questionsDict[str(index)]['ans2']\n",
        "      answer_3.value = questionsDict[str(index)]['ans3']\n",
        "      answer_4.value = questionsDict[str(index)]['ans4']\n",
        "      match(questionsDict[str(index)]['correct']):\n",
        "        case answer_1.value:\n",
        "          correct = 1\n",
        "        case answer_2.value:\n",
        "          correct = 2\n",
        "        case answer_3.value:\n",
        "          correct = 3\n",
        "        case answer_4.value:\n",
        "          correct = 4\n",
        "      correct_answer.value = str(correct)\n",
        "      break\n",
        "\n",
        "#def button_eventhandler2(obj):\n",
        "\n",
        "\n",
        "#def get_questions_from_db():\n",
        "  #questions = accessDB.get()\n",
        "\n",
        "\n",
        "#@title QuestionsForm\n",
        "question = widgets.Textarea(description=\"Question:\", layout=widgets.Layout(width='500px',height='100px'))\n",
        "answer_1 = widgets.Text(description=\"Answer #1:\", layout=widgets.Layout(width='300px'))\n",
        "answer_2 = widgets.Text(description=\"Answer #2:\", layout=widgets.Layout(width='300px'))\n",
        "answer_3 = widgets.Text(description=\"Answer #3:\", layout=widgets.Layout(width='300px'))\n",
        "answer_4 = widgets.Text(description=\"Answer #4:\", layout=widgets.Layout(width='300px'))\n",
        "\n",
        "correct_answer = widgets.Dropdown(\n",
        "    options=['1', '2', '3', '4'],\n",
        "    value='1',\n",
        "    description='Correct Answer:',\n",
        "    disabled=False,\n",
        "    layout=widgets.Layout(width='150px'),\n",
        "    style={'description_width': 'initial'})\n",
        "\n",
        "# Get questions from DB\n",
        "questionsDict = accessDB.get()\n",
        "questions = []\n",
        "for qKey in questionsDict:\n",
        "  if qKey != 'Count':\n",
        "    questions.append(questionsDict[qKey]['question'])\n",
        "\n",
        "questionsFromDB = widgets.Dropdown(\n",
        "    options = questions\n",
        ")\n",
        "\n",
        "add_edit_btn = widgets.Button(description='Add / Edit Question')\n",
        "add_edit_btn.on_click(button_eventhandler)\n",
        "\n",
        "delete_btn = widgets.Button(description='Delete Question')\n",
        "#delete_btn.on_click(button_eventhandler2)\n",
        "\n",
        "label = widgets.Label(value='')\n",
        "\n",
        "questionsFromDB.observe(fill_fields)\n",
        "\n",
        "display(question, answer_1, answer_2, answer_3, answer_4, correct_answer, add_edit_btn, label, questionsFromDB)\n",
        "\n",
        "#result = FBconn.get('/Questions/', None)\n",
        "#for key in result:\n",
        "#  print(key + \"\\t\" + str(result[key]))"
      ],
      "metadata": {
        "id": "qM34SSwIvCB4",
        "colab": {
          "base_uri": "https://localhost:8080/",
          "height": 337,
          "referenced_widgets": [
            "bd4c4559336f40a19031b6377f487314",
            "57a83bf9921743bd8d8c2df509109418",
            "cd025be9fb3642e09bc6d160d451df21",
            "51c451d927db4ab5b13601968ac76922",
            "f10dd850b04e46d9a4984344f022226f",
            "712f639754414e05b1887c0619bfe7dd",
            "a379d8bd035a46dd82c5397c92ec47be",
            "22d9f9e3884849d88a114c806f0e662a",
            "f3348471d11a4886aa0495fc44fb9bea",
            "9304ba378c8547dbb768c7397367168b",
            "641700c9bc0c442ab3edafd01080d75a",
            "a6e4133cc7534050bf3b2a26bc690dbd",
            "99b7cf87b5824136adba225160617524",
            "293affcace6b4851aab535e4dd1ca11f",
            "eef26ef9965e43beb463c34999b22048",
            "c8e1a0eb5ccf4775a8cc309e74c5cc08",
            "ea76c62bf720463ea7bff4bedbba2bc7",
            "da086cf120494166ab836021e37dc58f",
            "3ffc2b0d3f434b54bcca0656ed9e2127",
            "02eaa353919243b88c1d1c40b1d277cb",
            "6372cae5ad21404a8f7c9542f63385cb",
            "a65c5b4c8238443e8487cb413377bc48",
            "60ad497e334c4bec869b7f67f580ba22",
            "31fb3522f33b4c92b609083731d22249",
            "b5243e1a9bcf4dcd9f56146723bbf362",
            "c59b52a7aa4a444cbf8cc04566e6f829",
            "dcc531568965454e8776a4f0aeb4e92d"
          ]
        },
        "outputId": "ce0f30c7-7fc9-4313-a977-26b4dab04ef4"
      },
      "execution_count": 121,
      "outputs": [
        {
          "output_type": "display_data",
          "data": {
            "text/plain": [
              "Textarea(value='', description='Question:', layout=Layout(height='100px', width='500px'))"
            ],
            "application/vnd.jupyter.widget-view+json": {
              "version_major": 2,
              "version_minor": 0,
              "model_id": "bd4c4559336f40a19031b6377f487314"
            }
          },
          "metadata": {}
        },
        {
          "output_type": "display_data",
          "data": {
            "text/plain": [
              "Text(value='', description='Answer #1:', layout=Layout(width='300px'))"
            ],
            "application/vnd.jupyter.widget-view+json": {
              "version_major": 2,
              "version_minor": 0,
              "model_id": "51c451d927db4ab5b13601968ac76922"
            }
          },
          "metadata": {}
        },
        {
          "output_type": "display_data",
          "data": {
            "text/plain": [
              "Text(value='', description='Answer #2:', layout=Layout(width='300px'))"
            ],
            "application/vnd.jupyter.widget-view+json": {
              "version_major": 2,
              "version_minor": 0,
              "model_id": "a379d8bd035a46dd82c5397c92ec47be"
            }
          },
          "metadata": {}
        },
        {
          "output_type": "display_data",
          "data": {
            "text/plain": [
              "Text(value='', description='Answer #3:', layout=Layout(width='300px'))"
            ],
            "application/vnd.jupyter.widget-view+json": {
              "version_major": 2,
              "version_minor": 0,
              "model_id": "9304ba378c8547dbb768c7397367168b"
            }
          },
          "metadata": {}
        },
        {
          "output_type": "display_data",
          "data": {
            "text/plain": [
              "Text(value='', description='Answer #4:', layout=Layout(width='300px'))"
            ],
            "application/vnd.jupyter.widget-view+json": {
              "version_major": 2,
              "version_minor": 0,
              "model_id": "99b7cf87b5824136adba225160617524"
            }
          },
          "metadata": {}
        },
        {
          "output_type": "display_data",
          "data": {
            "text/plain": [
              "Dropdown(description='Correct Answer:', layout=Layout(width='150px'), options=('1', '2', '3', '4'), style=Desc…"
            ],
            "application/vnd.jupyter.widget-view+json": {
              "version_major": 2,
              "version_minor": 0,
              "model_id": "c8e1a0eb5ccf4775a8cc309e74c5cc08"
            }
          },
          "metadata": {}
        },
        {
          "output_type": "display_data",
          "data": {
            "text/plain": [
              "Button(description='Add / Edit Question', style=ButtonStyle())"
            ],
            "application/vnd.jupyter.widget-view+json": {
              "version_major": 2,
              "version_minor": 0,
              "model_id": "3ffc2b0d3f434b54bcca0656ed9e2127"
            }
          },
          "metadata": {}
        },
        {
          "output_type": "display_data",
          "data": {
            "text/plain": [
              "Label(value='')"
            ],
            "application/vnd.jupyter.widget-view+json": {
              "version_major": 2,
              "version_minor": 0,
              "model_id": "a65c5b4c8238443e8487cb413377bc48"
            }
          },
          "metadata": {}
        },
        {
          "output_type": "display_data",
          "data": {
            "text/plain": [
              "Dropdown(options=('How are me', 'dfssdf', 'gfdgdf', \"Complete : 'for i in _________:'\", '', 'What day is it?')…"
            ],
            "application/vnd.jupyter.widget-view+json": {
              "version_major": 2,
              "version_minor": 0,
              "model_id": "b5243e1a9bcf4dcd9f56146723bbf362"
            }
          },
          "metadata": {}
        }
      ]
    },
    {
      "cell_type": "code",
      "source": [
        "#import firebase_admin\n",
        "from firebase_admin import credentials, db\n",
        "\n",
        "\n",
        "# Initialize the Firebase Admin SDK\n",
        "cred = credentials.Certificate('/content/drive/My Drive/MyStyles/adminsdk.json')\n",
        "firebase_admin.initialize_app(cred,{'databaseURL': 'https://cloudcomputing-e1f5d-default-rtdb.firebaseio.com/'}, name=\"abc\")\n",
        "\n",
        "\n",
        "print(db.reference('Users/', app=firebase_admin.get_app(name=\"abc\")).get())"
      ],
      "metadata": {
        "colab": {
          "base_uri": "https://localhost:8080/"
        },
        "id": "2SNi2baMrm5R",
        "outputId": "9db049f5-dee2-44c0-b743-d76e3d046a78"
      },
      "execution_count": null,
      "outputs": [
        {
          "output_type": "stream",
          "name": "stdout",
          "text": [
            "{'amit': {'password': '123', 'points': 440, 'username': 'amit'}, 'benshi': {'password': '123', 'points': 390, 'username': 'benshi'}, 'dor': {'password': '123', 'points': 600, 'username': 'dor'}, 'raz': {'password': '123', 'points': 460, 'username': 'raz'}}\n"
          ]
        }
      ]
    },
    {
      "cell_type": "code",
      "source": [
        "# Getting number of question in DB\n",
        "accessDB = db.reference('Questions/', app=firebase_admin.get_app(name=\"abc\"))\n",
        "i = accessDB.child('Count').get()['i']\n",
        "i += 1\n",
        "correct = ''\n",
        "\n",
        "# Insert a question to DB and increase the number of questions(counter)\n",
        "accessDB.update({\n",
        "    i : {\n",
        "      'question' : question.value,\n",
        "      'correct' : correct,\n",
        "      'ans1' : answer_1.value,\n",
        "      'ans2' : answer_2.value,\n",
        "      'ans3' : answer_3.value,\n",
        "      'ans4' : answer_4.value \n",
        "    },\n",
        "    'Count': {'i': i}\n",
        "})\n",
        "\n",
        "# Get question number i from DB\n",
        "#accessDB.child(i).get()\n",
        "\n",
        "questions = accessDB.get()\n",
        "print(questions['4']['ans1'])"
      ],
      "metadata": {
        "colab": {
          "base_uri": "https://localhost:8080/"
        },
        "id": "8Vcq-URdr8cX",
        "outputId": "68e65e05-e69a-40bf-d5a3-0acc92548cf1"
      },
      "execution_count": null,
      "outputs": [
        {
          "output_type": "stream",
          "name": "stdout",
          "text": [
            "extend(10)\n"
          ]
        }
      ]
    },
    {
      "cell_type": "code",
      "source": [
        "!pip install firebase"
      ],
      "metadata": {
        "colab": {
          "base_uri": "https://localhost:8080/"
        },
        "id": "3GP9ZnFord0X",
        "outputId": "d69a26f6-579e-4f5e-c0b7-1029a0927f2c"
      },
      "execution_count": null,
      "outputs": [
        {
          "output_type": "stream",
          "name": "stdout",
          "text": [
            "Looking in indexes: https://pypi.org/simple, https://us-python.pkg.dev/colab-wheels/public/simple/\n",
            "Collecting firebase\n",
            "  Downloading firebase-4.0.1-py3-none-any.whl (12 kB)\n",
            "Requirement already satisfied: requests in /usr/local/lib/python3.10/dist-packages (from firebase) (2.27.1)\n",
            "Requirement already satisfied: urllib3<1.27,>=1.21.1 in /usr/local/lib/python3.10/dist-packages (from requests->firebase) (1.26.15)\n",
            "Requirement already satisfied: certifi>=2017.4.17 in /usr/local/lib/python3.10/dist-packages (from requests->firebase) (2022.12.7)\n",
            "Requirement already satisfied: charset-normalizer~=2.0.0 in /usr/local/lib/python3.10/dist-packages (from requests->firebase) (2.0.12)\n",
            "Requirement already satisfied: idna<4,>=2.5 in /usr/local/lib/python3.10/dist-packages (from requests->firebase) (3.4)\n",
            "Installing collected packages: firebase\n",
            "Successfully installed firebase-4.0.1\n"
          ]
        }
      ]
    }
  ]
}