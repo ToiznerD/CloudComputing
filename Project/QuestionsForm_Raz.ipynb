{
  "cells": [
    {
      "cell_type": "markdown",
      "metadata": {
        "id": "view-in-github",
        "colab_type": "text"
      },
      "source": [
        "<a href=\"https://colab.research.google.com/github/ToiznerD/CloudComputing/blob/main/Project/QuestionsForm_Raz.ipynb\" target=\"_parent\"><img src=\"https://colab.research.google.com/assets/colab-badge.svg\" alt=\"Open In Colab\"/></a>"
      ]
    },
    {
      "cell_type": "code",
      "execution_count": null,
      "metadata": {
        "colab": {
          "base_uri": "https://localhost:8080/",
          "height": 337,
          "referenced_widgets": [
            "58d3b5b9d38e4afa8bf7a4925dc06e52",
            "0d82b6e7d50746aabcb646d1de2f66c3",
            "e214cbfca00343028deb5885f12891c2",
            "8e15a7ef9c5346038c4d63fcccb9ae95",
            "c98b298b6a2f422986a7542310064931",
            "5b38df5bd7c24cdd86a6a1c0cc8b6758",
            "288e802a4873414f8daa682270755e89",
            "c722a629367b401ca28f165042334d53",
            "ea78ddec56d348e4997af07c51034918",
            "e5ee9b0f319c48c7991170bd3eac0692",
            "5b59eecb1ff54369a21c204d69e7be54",
            "719371cb01934a89b2cd1468c221615a",
            "b057b0e12dd94ad1be96919c117be30f",
            "3ac6a707823e49c89fa9d53825e07f19",
            "25f559586b624c4db653fcd728620fe4",
            "2f483c874bb142438177336650e9064f",
            "39186bad667246e0a4adab1cec4f46db",
            "212d2b442c5246dbae4382a933b54993",
            "a0a11e0ff7c742ce90e45d12ff07194d",
            "53b6ae2eb9384cfaa05da678693444fa",
            "0b2b990de3a746d993a65fbb02a972ad",
            "83f38c75b4ac4f91addc65f4d0b3fe36",
            "958d984f92dc4076938d4c443a4775fc",
            "1cf41ed1355a40269868e93cae30744e",
            "a36c4d7478e745ca8aec3d5d775b3e98",
            "ace9d8dcf8d44067b2e996876c70cb13",
            "f218910b10c44ed081304ca21de0b874"
          ]
        },
        "id": "qM34SSwIvCB4",
        "outputId": "dc1b2f69-c0dc-47ff-9013-e9daaf73bba3"
      },
      "outputs": [
        {
          "output_type": "display_data",
          "data": {
            "text/plain": [
              "Textarea(value='', description='Question:', layout=Layout(height='100px', width='500px'))"
            ],
            "application/vnd.jupyter.widget-view+json": {
              "version_major": 2,
              "version_minor": 0,
              "model_id": "58d3b5b9d38e4afa8bf7a4925dc06e52"
            }
          },
          "metadata": {}
        },
        {
          "output_type": "display_data",
          "data": {
            "text/plain": [
              "Text(value='', description='Answer #1:', layout=Layout(width='300px'))"
            ],
            "application/vnd.jupyter.widget-view+json": {
              "version_major": 2,
              "version_minor": 0,
              "model_id": "8e15a7ef9c5346038c4d63fcccb9ae95"
            }
          },
          "metadata": {}
        },
        {
          "output_type": "display_data",
          "data": {
            "text/plain": [
              "Text(value='', description='Answer #2:', layout=Layout(width='300px'))"
            ],
            "application/vnd.jupyter.widget-view+json": {
              "version_major": 2,
              "version_minor": 0,
              "model_id": "288e802a4873414f8daa682270755e89"
            }
          },
          "metadata": {}
        },
        {
          "output_type": "display_data",
          "data": {
            "text/plain": [
              "Text(value='', description='Answer #3:', layout=Layout(width='300px'))"
            ],
            "application/vnd.jupyter.widget-view+json": {
              "version_major": 2,
              "version_minor": 0,
              "model_id": "e5ee9b0f319c48c7991170bd3eac0692"
            }
          },
          "metadata": {}
        },
        {
          "output_type": "display_data",
          "data": {
            "text/plain": [
              "Text(value='', description='Answer #4:', layout=Layout(width='300px'))"
            ],
            "application/vnd.jupyter.widget-view+json": {
              "version_major": 2,
              "version_minor": 0,
              "model_id": "b057b0e12dd94ad1be96919c117be30f"
            }
          },
          "metadata": {}
        },
        {
          "output_type": "display_data",
          "data": {
            "text/plain": [
              "Dropdown(description='Correct Answer:', layout=Layout(width='150px'), options=('1', '2', '3', '4'), style=Desc…"
            ],
            "application/vnd.jupyter.widget-view+json": {
              "version_major": 2,
              "version_minor": 0,
              "model_id": "2f483c874bb142438177336650e9064f"
            }
          },
          "metadata": {}
        },
        {
          "output_type": "display_data",
          "data": {
            "text/plain": [
              "Button(description='Add / Edit Question', style=ButtonStyle())"
            ],
            "application/vnd.jupyter.widget-view+json": {
              "version_major": 2,
              "version_minor": 0,
              "model_id": "a0a11e0ff7c742ce90e45d12ff07194d"
            }
          },
          "metadata": {}
        },
        {
          "output_type": "display_data",
          "data": {
            "text/plain": [
              "Label(value='')"
            ],
            "application/vnd.jupyter.widget-view+json": {
              "version_major": 2,
              "version_minor": 0,
              "model_id": "83f38c75b4ac4f91addc65f4d0b3fe36"
            }
          },
          "metadata": {}
        },
        {
          "output_type": "display_data",
          "data": {
            "text/plain": [
              "Dropdown(options=('Pick a question to edit', 'How are me', 'dfssdf', 'gfdgdf', \"Complete : 'for i in _________…"
            ],
            "application/vnd.jupyter.widget-view+json": {
              "version_major": 2,
              "version_minor": 0,
              "model_id": "a36c4d7478e745ca8aec3d5d775b3e98"
            }
          },
          "metadata": {}
        }
      ],
      "source": [
        "from firebase import firebase\n",
        "from google.colab import drive\n",
        "import json\n",
        "import ipywidgets as widgets\n",
        "import time\n",
        "import firebase_admin\n",
        "from firebase_admin import credentials\n",
        "from firebase_admin import firestore, db\n",
        "\n",
        "#FBconn = firebase.FirebaseApplication('https://cloudcomputing-e1f5d-default-rtdb.firebaseio.com/', None)\n",
        "\n",
        "# Connect to DB\n",
        "accessDB = db.reference('Questions/', app=firebase_admin.get_app(name=\"abc\"))\n",
        "\n",
        "\n",
        "\n",
        "\n",
        "\n",
        "def button_eventhandler(obj):\n",
        "    if questionsFromDB.value == 'Pick a question to edit':\n",
        "        # Getting number of question in DB\n",
        "        questionsNum = accessDB.child('Count').get()['i']\n",
        "        # Increase amount of questions in DB\n",
        "        questionsNum += 1\n",
        "    else:\n",
        "        questionsDict = accessDB.get()\n",
        "        for qKey in questionsDict:\n",
        "          if questionsFromDB.value == questionsDict[qKey]['question']:\n",
        "            questionsNum = qKey\n",
        "\n",
        "        # Saving correct answer in DB as string\n",
        "        correct = ''\n",
        "        match(int(correct_answer.value)):\n",
        "            case 1:\n",
        "              correct = answer_1.value\n",
        "            case 2:\n",
        "              correct = answer_2.value\n",
        "            case 3:\n",
        "              correct = answer_3.value\n",
        "            case 4:\n",
        "              correct = answer_4.value\n",
        "\n",
        "        # Insert a question to DB and increase the number of questions(counter)\n",
        "        accessDB.update({\n",
        "            questionsNum : {\n",
        "              'question' : question.value,\n",
        "              'correct' : correct,\n",
        "              'ans1' : answer_1.value,\n",
        "              'ans2' : answer_2.value,\n",
        "              'ans3' : answer_3.value,\n",
        "              'ans4' : answer_4.value \n",
        "            },\n",
        "            'Count': {'i': questionsNum}\n",
        "        })\n",
        "\n",
        "        #FBconn.post('/Questions/', question_to_upload)\n",
        "        label.value = 'Question \"' + question.value + '\" sent to DB successfuly'\n",
        "        reset_fields()\n",
        "        time.sleep(5)\n",
        "        label.value = ''\n",
        "\n",
        "# Reset text-boxes input\n",
        "def reset_fields():\n",
        "    question.value = ''\n",
        "    answer_1.value = ''\n",
        "    answer_2.value = ''\n",
        "    answer_3.value = ''\n",
        "    answer_4.value = ''\n",
        "    correct_answer.value = '1'\n",
        "\n",
        "def fill_fields(change):\n",
        "  # Check if default option is selected\n",
        "  if change['new'] == 'Pick a question to edit':\n",
        "      reset_fields()\n",
        "      return\n",
        "\n",
        "  # Find the question index\n",
        "  index = None\n",
        "  for i, q in enumerate(questions):\n",
        "    if q == change['new']:\n",
        "      index = i\n",
        "      question.value = q\n",
        "      answer_1.value = questionsDict[str(index)]['ans1']\n",
        "      answer_2.value = questionsDict[str(index)]['ans2']\n",
        "      answer_3.value = questionsDict[str(index)]['ans3']\n",
        "      answer_4.value = questionsDict[str(index)]['ans4']\n",
        "      match(questionsDict[str(index)]['correct']):\n",
        "        case answer_1.value:\n",
        "          correct = 1\n",
        "        case answer_2.value:\n",
        "          correct = 2\n",
        "        case answer_3.value:\n",
        "          correct = 3\n",
        "        case answer_4.value:\n",
        "          correct = 4\n",
        "      correct_answer.value = str(correct)\n",
        "      break\n",
        "\n",
        "#def button_eventhandler2(obj):\n",
        "\n",
        "\n",
        "#def get_questions_from_db():\n",
        "  #questions = accessDB.get()\n",
        "\n",
        "\n",
        "#@title QuestionsForm\n",
        "question = widgets.Textarea(description=\"Question:\", layout=widgets.Layout(width='500px',height='100px'))\n",
        "answer_1 = widgets.Text(description=\"Answer #1:\", layout=widgets.Layout(width='300px'))\n",
        "answer_2 = widgets.Text(description=\"Answer #2:\", layout=widgets.Layout(width='300px'))\n",
        "answer_3 = widgets.Text(description=\"Answer #3:\", layout=widgets.Layout(width='300px'))\n",
        "answer_4 = widgets.Text(description=\"Answer #4:\", layout=widgets.Layout(width='300px'))\n",
        "\n",
        "correct_answer = widgets.Dropdown(\n",
        "    options=['1', '2', '3', '4'],\n",
        "    value='1',\n",
        "    description='Correct Answer:',\n",
        "    disabled=False,\n",
        "    layout=widgets.Layout(width='150px'),\n",
        "    style={'description_width': 'initial'})\n",
        "\n",
        "# Get questions from DB\n",
        "questionsDict = accessDB.get()\n",
        "questions = []\n",
        "questions.append('Pick a question to edit')\n",
        "for qKey in questionsDict:\n",
        "  if qKey != 'Count':\n",
        "    questions.append(questionsDict[qKey]['question'])\n",
        "\n",
        "questionsFromDB = widgets.Dropdown(\n",
        "    options = questions\n",
        ")\n",
        "\n",
        "add_edit_btn = widgets.Button(description='Add / Edit Question')\n",
        "add_edit_btn.on_click(button_eventhandler)\n",
        "\n",
        "delete_btn = widgets.Button(description='Delete Question')\n",
        "#delete_btn.on_click(button_eventhandler2)\n",
        "\n",
        "label = widgets.Label(value='')\n",
        "\n",
        "questionsFromDB.observe(fill_fields)\n",
        "\n",
        "display(question, answer_1, answer_2, answer_3, answer_4, correct_answer, add_edit_btn, label, questionsFromDB)\n",
        "\n",
        "#result = FBconn.get('/Questions/', None)\n",
        "#for key in result:\n",
        "#  print(key + \"\\t\" + str(result[key]))"
      ]
    },
    {
      "cell_type": "code",
      "execution_count": null,
      "metadata": {
        "colab": {
          "base_uri": "https://localhost:8080/"
        },
        "id": "2SNi2baMrm5R",
        "outputId": "ad96f64f-8f13-43f5-b718-82e442608dc0"
      },
      "outputs": [
        {
          "output_type": "stream",
          "name": "stdout",
          "text": [
            "{'amit': {'password': '123', 'points': 440, 'username': 'amit'}, 'benshi': {'password': '123', 'points': 390, 'username': 'benshi'}, 'dor': {'password': '123', 'points': 600, 'username': 'dor'}, 'raz': {'password': '123', 'points': 460, 'username': 'raz'}}\n"
          ]
        }
      ],
      "source": [
        "#import firebase_admin\n",
        "from firebase_admin import credentials, db\n",
        "\n",
        "\n",
        "# Initialize the Firebase Admin SDK\n",
        "cred = credentials.Certificate('/content/drive/My Drive/MyStyles/adminsdk.json')\n",
        "firebase_admin.initialize_app(cred,{'databaseURL': 'https://cloudcomputing-e1f5d-default-rtdb.firebaseio.com/'}, name=\"abc\")\n",
        "\n",
        "\n",
        "print(db.reference('Users/', app=firebase_admin.get_app(name=\"abc\")).get())"
      ]
    },
    {
      "cell_type": "code",
      "execution_count": null,
      "metadata": {
        "colab": {
          "base_uri": "https://localhost:8080/"
        },
        "id": "8Vcq-URdr8cX",
        "outputId": "68e65e05-e69a-40bf-d5a3-0acc92548cf1"
      },
      "outputs": [
        {
          "name": "stdout",
          "output_type": "stream",
          "text": [
            "extend(10)\n"
          ]
        }
      ],
      "source": [
        "# Getting number of question in DB\n",
        "accessDB = db.reference('Questions/', app=firebase_admin.get_app(name=\"abc\"))\n",
        "i = accessDB.child('Count').get()['i']\n",
        "i += 1\n",
        "correct = ''\n",
        "\n",
        "# Insert a question to DB and increase the number of questions(counter)\n",
        "accessDB.update({\n",
        "    i : {\n",
        "      'question' : question.value,\n",
        "      'correct' : correct,\n",
        "      'ans1' : answer_1.value,\n",
        "      'ans2' : answer_2.value,\n",
        "      'ans3' : answer_3.value,\n",
        "      'ans4' : answer_4.value \n",
        "    },\n",
        "    'Count': {'i': i}\n",
        "})\n",
        "\n",
        "# Get question number i from DB\n",
        "#accessDB.child(i).get()\n",
        "\n",
        "questions = accessDB.get()\n",
        "print(questions['4']['ans1'])"
      ]
    },
    {
      "cell_type": "code",
      "execution_count": null,
      "metadata": {
        "colab": {
          "base_uri": "https://localhost:8080/"
        },
        "id": "3GP9ZnFord0X",
        "outputId": "64d6ed7d-2d27-40b1-a3aa-dbec8f0697ed"
      },
      "outputs": [
        {
          "output_type": "stream",
          "name": "stdout",
          "text": [
            "Looking in indexes: https://pypi.org/simple, https://us-python.pkg.dev/colab-wheels/public/simple/\n",
            "Collecting firebase\n",
            "  Downloading firebase-4.0.1-py3-none-any.whl (12 kB)\n",
            "Requirement already satisfied: requests in /usr/local/lib/python3.10/dist-packages (from firebase) (2.27.1)\n",
            "Requirement already satisfied: urllib3<1.27,>=1.21.1 in /usr/local/lib/python3.10/dist-packages (from requests->firebase) (1.26.15)\n",
            "Requirement already satisfied: certifi>=2017.4.17 in /usr/local/lib/python3.10/dist-packages (from requests->firebase) (2022.12.7)\n",
            "Requirement already satisfied: charset-normalizer~=2.0.0 in /usr/local/lib/python3.10/dist-packages (from requests->firebase) (2.0.12)\n",
            "Requirement already satisfied: idna<4,>=2.5 in /usr/local/lib/python3.10/dist-packages (from requests->firebase) (3.4)\n",
            "Installing collected packages: firebase\n",
            "Successfully installed firebase-4.0.1\n"
          ]
        }
      ],
      "source": [
        "!pip install firebase"
      ]
    }
  ],
  "metadata": {
    "colab": {
      "provenance": [],
      "mount_file_id": "1sA-n71ruQQ8zaYP7GGRxFq03LCqopT9m",
      "authorship_tag": "ABX9TyMmcPNo/psK50DhpAjyMrrG",
      "include_colab_link": true
    },
    "kernelspec": {
      "display_name": "Python 3",
      "name": "python3"
    },
    "language_info": {
      "name": "python"
    },
    "widgets": {
      "application/vnd.jupyter.widget-state+json": {
        "58d3b5b9d38e4afa8bf7a4925dc06e52": {
          "model_module": "@jupyter-widgets/controls",
          "model_name": "TextareaModel",
          "model_module_version": "1.5.0",
          "state": {
            "_dom_classes": [],
            "_model_module": "@jupyter-widgets/controls",
            "_model_module_version": "1.5.0",
            "_model_name": "TextareaModel",
            "_view_count": null,
            "_view_module": "@jupyter-widgets/controls",
            "_view_module_version": "1.5.0",
            "_view_name": "TextareaView",
            "continuous_update": true,
            "description": "Question:",
            "description_tooltip": null,
            "disabled": false,
            "layout": "IPY_MODEL_0d82b6e7d50746aabcb646d1de2f66c3",
            "placeholder": "​",
            "rows": null,
            "style": "IPY_MODEL_e214cbfca00343028deb5885f12891c2",
            "value": "How are me"
          }
        },
        "0d82b6e7d50746aabcb646d1de2f66c3": {
          "model_module": "@jupyter-widgets/base",
          "model_name": "LayoutModel",
          "model_module_version": "1.2.0",
          "state": {
            "_model_module": "@jupyter-widgets/base",
            "_model_module_version": "1.2.0",
            "_model_name": "LayoutModel",
            "_view_count": null,
            "_view_module": "@jupyter-widgets/base",
            "_view_module_version": "1.2.0",
            "_view_name": "LayoutView",
            "align_content": null,
            "align_items": null,
            "align_self": null,
            "border": null,
            "bottom": null,
            "display": null,
            "flex": null,
            "flex_flow": null,
            "grid_area": null,
            "grid_auto_columns": null,
            "grid_auto_flow": null,
            "grid_auto_rows": null,
            "grid_column": null,
            "grid_gap": null,
            "grid_row": null,
            "grid_template_areas": null,
            "grid_template_columns": null,
            "grid_template_rows": null,
            "height": "100px",
            "justify_content": null,
            "justify_items": null,
            "left": null,
            "margin": null,
            "max_height": null,
            "max_width": null,
            "min_height": null,
            "min_width": null,
            "object_fit": null,
            "object_position": null,
            "order": null,
            "overflow": null,
            "overflow_x": null,
            "overflow_y": null,
            "padding": null,
            "right": null,
            "top": null,
            "visibility": null,
            "width": "500px"
          }
        },
        "e214cbfca00343028deb5885f12891c2": {
          "model_module": "@jupyter-widgets/controls",
          "model_name": "DescriptionStyleModel",
          "model_module_version": "1.5.0",
          "state": {
            "_model_module": "@jupyter-widgets/controls",
            "_model_module_version": "1.5.0",
            "_model_name": "DescriptionStyleModel",
            "_view_count": null,
            "_view_module": "@jupyter-widgets/base",
            "_view_module_version": "1.2.0",
            "_view_name": "StyleView",
            "description_width": ""
          }
        },
        "8e15a7ef9c5346038c4d63fcccb9ae95": {
          "model_module": "@jupyter-widgets/controls",
          "model_name": "TextModel",
          "model_module_version": "1.5.0",
          "state": {
            "_dom_classes": [],
            "_model_module": "@jupyter-widgets/controls",
            "_model_module_version": "1.5.0",
            "_model_name": "TextModel",
            "_view_count": null,
            "_view_module": "@jupyter-widgets/controls",
            "_view_module_version": "1.5.0",
            "_view_name": "TextView",
            "continuous_update": true,
            "description": "Answer #1:",
            "description_tooltip": null,
            "disabled": false,
            "layout": "IPY_MODEL_c98b298b6a2f422986a7542310064931",
            "placeholder": "​",
            "style": "IPY_MODEL_5b38df5bd7c24cdd86a6a1c0cc8b6758",
            "value": "gf"
          }
        },
        "c98b298b6a2f422986a7542310064931": {
          "model_module": "@jupyter-widgets/base",
          "model_name": "LayoutModel",
          "model_module_version": "1.2.0",
          "state": {
            "_model_module": "@jupyter-widgets/base",
            "_model_module_version": "1.2.0",
            "_model_name": "LayoutModel",
            "_view_count": null,
            "_view_module": "@jupyter-widgets/base",
            "_view_module_version": "1.2.0",
            "_view_name": "LayoutView",
            "align_content": null,
            "align_items": null,
            "align_self": null,
            "border": null,
            "bottom": null,
            "display": null,
            "flex": null,
            "flex_flow": null,
            "grid_area": null,
            "grid_auto_columns": null,
            "grid_auto_flow": null,
            "grid_auto_rows": null,
            "grid_column": null,
            "grid_gap": null,
            "grid_row": null,
            "grid_template_areas": null,
            "grid_template_columns": null,
            "grid_template_rows": null,
            "height": null,
            "justify_content": null,
            "justify_items": null,
            "left": null,
            "margin": null,
            "max_height": null,
            "max_width": null,
            "min_height": null,
            "min_width": null,
            "object_fit": null,
            "object_position": null,
            "order": null,
            "overflow": null,
            "overflow_x": null,
            "overflow_y": null,
            "padding": null,
            "right": null,
            "top": null,
            "visibility": null,
            "width": "300px"
          }
        },
        "5b38df5bd7c24cdd86a6a1c0cc8b6758": {
          "model_module": "@jupyter-widgets/controls",
          "model_name": "DescriptionStyleModel",
          "model_module_version": "1.5.0",
          "state": {
            "_model_module": "@jupyter-widgets/controls",
            "_model_module_version": "1.5.0",
            "_model_name": "DescriptionStyleModel",
            "_view_count": null,
            "_view_module": "@jupyter-widgets/base",
            "_view_module_version": "1.2.0",
            "_view_name": "StyleView",
            "description_width": ""
          }
        },
        "288e802a4873414f8daa682270755e89": {
          "model_module": "@jupyter-widgets/controls",
          "model_name": "TextModel",
          "model_module_version": "1.5.0",
          "state": {
            "_dom_classes": [],
            "_model_module": "@jupyter-widgets/controls",
            "_model_module_version": "1.5.0",
            "_model_name": "TextModel",
            "_view_count": null,
            "_view_module": "@jupyter-widgets/controls",
            "_view_module_version": "1.5.0",
            "_view_name": "TextView",
            "continuous_update": true,
            "description": "Answer #2:",
            "description_tooltip": null,
            "disabled": false,
            "layout": "IPY_MODEL_c722a629367b401ca28f165042334d53",
            "placeholder": "​",
            "style": "IPY_MODEL_ea78ddec56d348e4997af07c51034918",
            "value": "g"
          }
        },
        "c722a629367b401ca28f165042334d53": {
          "model_module": "@jupyter-widgets/base",
          "model_name": "LayoutModel",
          "model_module_version": "1.2.0",
          "state": {
            "_model_module": "@jupyter-widgets/base",
            "_model_module_version": "1.2.0",
            "_model_name": "LayoutModel",
            "_view_count": null,
            "_view_module": "@jupyter-widgets/base",
            "_view_module_version": "1.2.0",
            "_view_name": "LayoutView",
            "align_content": null,
            "align_items": null,
            "align_self": null,
            "border": null,
            "bottom": null,
            "display": null,
            "flex": null,
            "flex_flow": null,
            "grid_area": null,
            "grid_auto_columns": null,
            "grid_auto_flow": null,
            "grid_auto_rows": null,
            "grid_column": null,
            "grid_gap": null,
            "grid_row": null,
            "grid_template_areas": null,
            "grid_template_columns": null,
            "grid_template_rows": null,
            "height": null,
            "justify_content": null,
            "justify_items": null,
            "left": null,
            "margin": null,
            "max_height": null,
            "max_width": null,
            "min_height": null,
            "min_width": null,
            "object_fit": null,
            "object_position": null,
            "order": null,
            "overflow": null,
            "overflow_x": null,
            "overflow_y": null,
            "padding": null,
            "right": null,
            "top": null,
            "visibility": null,
            "width": "300px"
          }
        },
        "ea78ddec56d348e4997af07c51034918": {
          "model_module": "@jupyter-widgets/controls",
          "model_name": "DescriptionStyleModel",
          "model_module_version": "1.5.0",
          "state": {
            "_model_module": "@jupyter-widgets/controls",
            "_model_module_version": "1.5.0",
            "_model_name": "DescriptionStyleModel",
            "_view_count": null,
            "_view_module": "@jupyter-widgets/base",
            "_view_module_version": "1.2.0",
            "_view_name": "StyleView",
            "description_width": ""
          }
        },
        "e5ee9b0f319c48c7991170bd3eac0692": {
          "model_module": "@jupyter-widgets/controls",
          "model_name": "TextModel",
          "model_module_version": "1.5.0",
          "state": {
            "_dom_classes": [],
            "_model_module": "@jupyter-widgets/controls",
            "_model_module_version": "1.5.0",
            "_model_name": "TextModel",
            "_view_count": null,
            "_view_module": "@jupyter-widgets/controls",
            "_view_module_version": "1.5.0",
            "_view_name": "TextView",
            "continuous_update": true,
            "description": "Answer #3:",
            "description_tooltip": null,
            "disabled": false,
            "layout": "IPY_MODEL_5b59eecb1ff54369a21c204d69e7be54",
            "placeholder": "​",
            "style": "IPY_MODEL_719371cb01934a89b2cd1468c221615a",
            "value": "kl"
          }
        },
        "5b59eecb1ff54369a21c204d69e7be54": {
          "model_module": "@jupyter-widgets/base",
          "model_name": "LayoutModel",
          "model_module_version": "1.2.0",
          "state": {
            "_model_module": "@jupyter-widgets/base",
            "_model_module_version": "1.2.0",
            "_model_name": "LayoutModel",
            "_view_count": null,
            "_view_module": "@jupyter-widgets/base",
            "_view_module_version": "1.2.0",
            "_view_name": "LayoutView",
            "align_content": null,
            "align_items": null,
            "align_self": null,
            "border": null,
            "bottom": null,
            "display": null,
            "flex": null,
            "flex_flow": null,
            "grid_area": null,
            "grid_auto_columns": null,
            "grid_auto_flow": null,
            "grid_auto_rows": null,
            "grid_column": null,
            "grid_gap": null,
            "grid_row": null,
            "grid_template_areas": null,
            "grid_template_columns": null,
            "grid_template_rows": null,
            "height": null,
            "justify_content": null,
            "justify_items": null,
            "left": null,
            "margin": null,
            "max_height": null,
            "max_width": null,
            "min_height": null,
            "min_width": null,
            "object_fit": null,
            "object_position": null,
            "order": null,
            "overflow": null,
            "overflow_x": null,
            "overflow_y": null,
            "padding": null,
            "right": null,
            "top": null,
            "visibility": null,
            "width": "300px"
          }
        },
        "719371cb01934a89b2cd1468c221615a": {
          "model_module": "@jupyter-widgets/controls",
          "model_name": "DescriptionStyleModel",
          "model_module_version": "1.5.0",
          "state": {
            "_model_module": "@jupyter-widgets/controls",
            "_model_module_version": "1.5.0",
            "_model_name": "DescriptionStyleModel",
            "_view_count": null,
            "_view_module": "@jupyter-widgets/base",
            "_view_module_version": "1.2.0",
            "_view_name": "StyleView",
            "description_width": ""
          }
        },
        "b057b0e12dd94ad1be96919c117be30f": {
          "model_module": "@jupyter-widgets/controls",
          "model_name": "TextModel",
          "model_module_version": "1.5.0",
          "state": {
            "_dom_classes": [],
            "_model_module": "@jupyter-widgets/controls",
            "_model_module_version": "1.5.0",
            "_model_name": "TextModel",
            "_view_count": null,
            "_view_module": "@jupyter-widgets/controls",
            "_view_module_version": "1.5.0",
            "_view_name": "TextView",
            "continuous_update": true,
            "description": "Answer #4:",
            "description_tooltip": null,
            "disabled": false,
            "layout": "IPY_MODEL_3ac6a707823e49c89fa9d53825e07f19",
            "placeholder": "​",
            "style": "IPY_MODEL_25f559586b624c4db653fcd728620fe4",
            "value": "i"
          }
        },
        "3ac6a707823e49c89fa9d53825e07f19": {
          "model_module": "@jupyter-widgets/base",
          "model_name": "LayoutModel",
          "model_module_version": "1.2.0",
          "state": {
            "_model_module": "@jupyter-widgets/base",
            "_model_module_version": "1.2.0",
            "_model_name": "LayoutModel",
            "_view_count": null,
            "_view_module": "@jupyter-widgets/base",
            "_view_module_version": "1.2.0",
            "_view_name": "LayoutView",
            "align_content": null,
            "align_items": null,
            "align_self": null,
            "border": null,
            "bottom": null,
            "display": null,
            "flex": null,
            "flex_flow": null,
            "grid_area": null,
            "grid_auto_columns": null,
            "grid_auto_flow": null,
            "grid_auto_rows": null,
            "grid_column": null,
            "grid_gap": null,
            "grid_row": null,
            "grid_template_areas": null,
            "grid_template_columns": null,
            "grid_template_rows": null,
            "height": null,
            "justify_content": null,
            "justify_items": null,
            "left": null,
            "margin": null,
            "max_height": null,
            "max_width": null,
            "min_height": null,
            "min_width": null,
            "object_fit": null,
            "object_position": null,
            "order": null,
            "overflow": null,
            "overflow_x": null,
            "overflow_y": null,
            "padding": null,
            "right": null,
            "top": null,
            "visibility": null,
            "width": "300px"
          }
        },
        "25f559586b624c4db653fcd728620fe4": {
          "model_module": "@jupyter-widgets/controls",
          "model_name": "DescriptionStyleModel",
          "model_module_version": "1.5.0",
          "state": {
            "_model_module": "@jupyter-widgets/controls",
            "_model_module_version": "1.5.0",
            "_model_name": "DescriptionStyleModel",
            "_view_count": null,
            "_view_module": "@jupyter-widgets/base",
            "_view_module_version": "1.2.0",
            "_view_name": "StyleView",
            "description_width": ""
          }
        },
        "2f483c874bb142438177336650e9064f": {
          "model_module": "@jupyter-widgets/controls",
          "model_name": "DropdownModel",
          "model_module_version": "1.5.0",
          "state": {
            "_dom_classes": [],
            "_model_module": "@jupyter-widgets/controls",
            "_model_module_version": "1.5.0",
            "_model_name": "DropdownModel",
            "_options_labels": [
              "1",
              "2",
              "3",
              "4"
            ],
            "_view_count": null,
            "_view_module": "@jupyter-widgets/controls",
            "_view_module_version": "1.5.0",
            "_view_name": "DropdownView",
            "description": "Correct Answer:",
            "description_tooltip": null,
            "disabled": false,
            "index": 0,
            "layout": "IPY_MODEL_39186bad667246e0a4adab1cec4f46db",
            "style": "IPY_MODEL_212d2b442c5246dbae4382a933b54993"
          }
        },
        "39186bad667246e0a4adab1cec4f46db": {
          "model_module": "@jupyter-widgets/base",
          "model_name": "LayoutModel",
          "model_module_version": "1.2.0",
          "state": {
            "_model_module": "@jupyter-widgets/base",
            "_model_module_version": "1.2.0",
            "_model_name": "LayoutModel",
            "_view_count": null,
            "_view_module": "@jupyter-widgets/base",
            "_view_module_version": "1.2.0",
            "_view_name": "LayoutView",
            "align_content": null,
            "align_items": null,
            "align_self": null,
            "border": null,
            "bottom": null,
            "display": null,
            "flex": null,
            "flex_flow": null,
            "grid_area": null,
            "grid_auto_columns": null,
            "grid_auto_flow": null,
            "grid_auto_rows": null,
            "grid_column": null,
            "grid_gap": null,
            "grid_row": null,
            "grid_template_areas": null,
            "grid_template_columns": null,
            "grid_template_rows": null,
            "height": null,
            "justify_content": null,
            "justify_items": null,
            "left": null,
            "margin": null,
            "max_height": null,
            "max_width": null,
            "min_height": null,
            "min_width": null,
            "object_fit": null,
            "object_position": null,
            "order": null,
            "overflow": null,
            "overflow_x": null,
            "overflow_y": null,
            "padding": null,
            "right": null,
            "top": null,
            "visibility": null,
            "width": "150px"
          }
        },
        "212d2b442c5246dbae4382a933b54993": {
          "model_module": "@jupyter-widgets/controls",
          "model_name": "DescriptionStyleModel",
          "model_module_version": "1.5.0",
          "state": {
            "_model_module": "@jupyter-widgets/controls",
            "_model_module_version": "1.5.0",
            "_model_name": "DescriptionStyleModel",
            "_view_count": null,
            "_view_module": "@jupyter-widgets/base",
            "_view_module_version": "1.2.0",
            "_view_name": "StyleView",
            "description_width": "initial"
          }
        },
        "a0a11e0ff7c742ce90e45d12ff07194d": {
          "model_module": "@jupyter-widgets/controls",
          "model_name": "ButtonModel",
          "model_module_version": "1.5.0",
          "state": {
            "_dom_classes": [],
            "_model_module": "@jupyter-widgets/controls",
            "_model_module_version": "1.5.0",
            "_model_name": "ButtonModel",
            "_view_count": null,
            "_view_module": "@jupyter-widgets/controls",
            "_view_module_version": "1.5.0",
            "_view_name": "ButtonView",
            "button_style": "",
            "description": "Add / Edit Question",
            "disabled": false,
            "icon": "",
            "layout": "IPY_MODEL_53b6ae2eb9384cfaa05da678693444fa",
            "style": "IPY_MODEL_0b2b990de3a746d993a65fbb02a972ad",
            "tooltip": ""
          }
        },
        "53b6ae2eb9384cfaa05da678693444fa": {
          "model_module": "@jupyter-widgets/base",
          "model_name": "LayoutModel",
          "model_module_version": "1.2.0",
          "state": {
            "_model_module": "@jupyter-widgets/base",
            "_model_module_version": "1.2.0",
            "_model_name": "LayoutModel",
            "_view_count": null,
            "_view_module": "@jupyter-widgets/base",
            "_view_module_version": "1.2.0",
            "_view_name": "LayoutView",
            "align_content": null,
            "align_items": null,
            "align_self": null,
            "border": null,
            "bottom": null,
            "display": null,
            "flex": null,
            "flex_flow": null,
            "grid_area": null,
            "grid_auto_columns": null,
            "grid_auto_flow": null,
            "grid_auto_rows": null,
            "grid_column": null,
            "grid_gap": null,
            "grid_row": null,
            "grid_template_areas": null,
            "grid_template_columns": null,
            "grid_template_rows": null,
            "height": null,
            "justify_content": null,
            "justify_items": null,
            "left": null,
            "margin": null,
            "max_height": null,
            "max_width": null,
            "min_height": null,
            "min_width": null,
            "object_fit": null,
            "object_position": null,
            "order": null,
            "overflow": null,
            "overflow_x": null,
            "overflow_y": null,
            "padding": null,
            "right": null,
            "top": null,
            "visibility": null,
            "width": null
          }
        },
        "0b2b990de3a746d993a65fbb02a972ad": {
          "model_module": "@jupyter-widgets/controls",
          "model_name": "ButtonStyleModel",
          "model_module_version": "1.5.0",
          "state": {
            "_model_module": "@jupyter-widgets/controls",
            "_model_module_version": "1.5.0",
            "_model_name": "ButtonStyleModel",
            "_view_count": null,
            "_view_module": "@jupyter-widgets/base",
            "_view_module_version": "1.2.0",
            "_view_name": "StyleView",
            "button_color": null,
            "font_weight": ""
          }
        },
        "83f38c75b4ac4f91addc65f4d0b3fe36": {
          "model_module": "@jupyter-widgets/controls",
          "model_name": "LabelModel",
          "model_module_version": "1.5.0",
          "state": {
            "_dom_classes": [],
            "_model_module": "@jupyter-widgets/controls",
            "_model_module_version": "1.5.0",
            "_model_name": "LabelModel",
            "_view_count": null,
            "_view_module": "@jupyter-widgets/controls",
            "_view_module_version": "1.5.0",
            "_view_name": "LabelView",
            "description": "",
            "description_tooltip": null,
            "layout": "IPY_MODEL_958d984f92dc4076938d4c443a4775fc",
            "placeholder": "​",
            "style": "IPY_MODEL_1cf41ed1355a40269868e93cae30744e",
            "value": ""
          }
        },
        "958d984f92dc4076938d4c443a4775fc": {
          "model_module": "@jupyter-widgets/base",
          "model_name": "LayoutModel",
          "model_module_version": "1.2.0",
          "state": {
            "_model_module": "@jupyter-widgets/base",
            "_model_module_version": "1.2.0",
            "_model_name": "LayoutModel",
            "_view_count": null,
            "_view_module": "@jupyter-widgets/base",
            "_view_module_version": "1.2.0",
            "_view_name": "LayoutView",
            "align_content": null,
            "align_items": null,
            "align_self": null,
            "border": null,
            "bottom": null,
            "display": null,
            "flex": null,
            "flex_flow": null,
            "grid_area": null,
            "grid_auto_columns": null,
            "grid_auto_flow": null,
            "grid_auto_rows": null,
            "grid_column": null,
            "grid_gap": null,
            "grid_row": null,
            "grid_template_areas": null,
            "grid_template_columns": null,
            "grid_template_rows": null,
            "height": null,
            "justify_content": null,
            "justify_items": null,
            "left": null,
            "margin": null,
            "max_height": null,
            "max_width": null,
            "min_height": null,
            "min_width": null,
            "object_fit": null,
            "object_position": null,
            "order": null,
            "overflow": null,
            "overflow_x": null,
            "overflow_y": null,
            "padding": null,
            "right": null,
            "top": null,
            "visibility": null,
            "width": null
          }
        },
        "1cf41ed1355a40269868e93cae30744e": {
          "model_module": "@jupyter-widgets/controls",
          "model_name": "DescriptionStyleModel",
          "model_module_version": "1.5.0",
          "state": {
            "_model_module": "@jupyter-widgets/controls",
            "_model_module_version": "1.5.0",
            "_model_name": "DescriptionStyleModel",
            "_view_count": null,
            "_view_module": "@jupyter-widgets/base",
            "_view_module_version": "1.2.0",
            "_view_name": "StyleView",
            "description_width": ""
          }
        },
        "a36c4d7478e745ca8aec3d5d775b3e98": {
          "model_module": "@jupyter-widgets/controls",
          "model_name": "DropdownModel",
          "model_module_version": "1.5.0",
          "state": {
            "_dom_classes": [],
            "_model_module": "@jupyter-widgets/controls",
            "_model_module_version": "1.5.0",
            "_model_name": "DropdownModel",
            "_options_labels": [
              "Pick a question to edit",
              "How are me",
              "dfssdf",
              "gfdgdf",
              "Complete : 'for i in _________:'"
            ],
            "_view_count": null,
            "_view_module": "@jupyter-widgets/controls",
            "_view_module_version": "1.5.0",
            "_view_name": "DropdownView",
            "description": "",
            "description_tooltip": null,
            "disabled": false,
            "index": 1,
            "layout": "IPY_MODEL_ace9d8dcf8d44067b2e996876c70cb13",
            "style": "IPY_MODEL_f218910b10c44ed081304ca21de0b874"
          }
        },
        "ace9d8dcf8d44067b2e996876c70cb13": {
          "model_module": "@jupyter-widgets/base",
          "model_name": "LayoutModel",
          "model_module_version": "1.2.0",
          "state": {
            "_model_module": "@jupyter-widgets/base",
            "_model_module_version": "1.2.0",
            "_model_name": "LayoutModel",
            "_view_count": null,
            "_view_module": "@jupyter-widgets/base",
            "_view_module_version": "1.2.0",
            "_view_name": "LayoutView",
            "align_content": null,
            "align_items": null,
            "align_self": null,
            "border": null,
            "bottom": null,
            "display": null,
            "flex": null,
            "flex_flow": null,
            "grid_area": null,
            "grid_auto_columns": null,
            "grid_auto_flow": null,
            "grid_auto_rows": null,
            "grid_column": null,
            "grid_gap": null,
            "grid_row": null,
            "grid_template_areas": null,
            "grid_template_columns": null,
            "grid_template_rows": null,
            "height": null,
            "justify_content": null,
            "justify_items": null,
            "left": null,
            "margin": null,
            "max_height": null,
            "max_width": null,
            "min_height": null,
            "min_width": null,
            "object_fit": null,
            "object_position": null,
            "order": null,
            "overflow": null,
            "overflow_x": null,
            "overflow_y": null,
            "padding": null,
            "right": null,
            "top": null,
            "visibility": null,
            "width": null
          }
        },
        "f218910b10c44ed081304ca21de0b874": {
          "model_module": "@jupyter-widgets/controls",
          "model_name": "DescriptionStyleModel",
          "model_module_version": "1.5.0",
          "state": {
            "_model_module": "@jupyter-widgets/controls",
            "_model_module_version": "1.5.0",
            "_model_name": "DescriptionStyleModel",
            "_view_count": null,
            "_view_module": "@jupyter-widgets/base",
            "_view_module_version": "1.2.0",
            "_view_name": "StyleView",
            "description_width": ""
          }
        }
      }
    }
  },
  "nbformat": 4,
  "nbformat_minor": 0
}