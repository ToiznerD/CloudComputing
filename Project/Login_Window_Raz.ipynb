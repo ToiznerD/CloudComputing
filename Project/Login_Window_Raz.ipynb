{
  "nbformat": 4,
  "nbformat_minor": 0,
  "metadata": {
    "colab": {
      "provenance": [],
      "authorship_tag": "ABX9TyNq3CgL/cLaLK6c5jdoaZpS",
      "include_colab_link": true
    },
    "kernelspec": {
      "name": "python3",
      "display_name": "Python 3"
    },
    "language_info": {
      "name": "python"
    },
    "widgets": {
      "application/vnd.jupyter.widget-state+json": {
        "d5032381a1624282b402bab434000cd6": {
          "model_module": "@jupyter-widgets/controls",
          "model_name": "TextModel",
          "model_module_version": "1.5.0",
          "state": {
            "_dom_classes": [],
            "_model_module": "@jupyter-widgets/controls",
            "_model_module_version": "1.5.0",
            "_model_name": "TextModel",
            "_view_count": null,
            "_view_module": "@jupyter-widgets/controls",
            "_view_module_version": "1.5.0",
            "_view_name": "TextView",
            "continuous_update": true,
            "description": "User Name:",
            "description_tooltip": null,
            "disabled": false,
            "layout": "IPY_MODEL_0e03256a98e344cfaa4fce82552aff84",
            "placeholder": "​",
            "style": "IPY_MODEL_50751385274f4c939214b00f4487d307",
            "value": ""
          }
        },
        "0e03256a98e344cfaa4fce82552aff84": {
          "model_module": "@jupyter-widgets/base",
          "model_name": "LayoutModel",
          "model_module_version": "1.2.0",
          "state": {
            "_model_module": "@jupyter-widgets/base",
            "_model_module_version": "1.2.0",
            "_model_name": "LayoutModel",
            "_view_count": null,
            "_view_module": "@jupyter-widgets/base",
            "_view_module_version": "1.2.0",
            "_view_name": "LayoutView",
            "align_content": null,
            "align_items": null,
            "align_self": null,
            "border": null,
            "bottom": null,
            "display": null,
            "flex": null,
            "flex_flow": null,
            "grid_area": null,
            "grid_auto_columns": null,
            "grid_auto_flow": null,
            "grid_auto_rows": null,
            "grid_column": null,
            "grid_gap": null,
            "grid_row": null,
            "grid_template_areas": null,
            "grid_template_columns": null,
            "grid_template_rows": null,
            "height": null,
            "justify_content": null,
            "justify_items": null,
            "left": null,
            "margin": null,
            "max_height": null,
            "max_width": null,
            "min_height": null,
            "min_width": null,
            "object_fit": null,
            "object_position": null,
            "order": null,
            "overflow": null,
            "overflow_x": null,
            "overflow_y": null,
            "padding": null,
            "right": null,
            "top": null,
            "visibility": null,
            "width": "250px"
          }
        },
        "50751385274f4c939214b00f4487d307": {
          "model_module": "@jupyter-widgets/controls",
          "model_name": "DescriptionStyleModel",
          "model_module_version": "1.5.0",
          "state": {
            "_model_module": "@jupyter-widgets/controls",
            "_model_module_version": "1.5.0",
            "_model_name": "DescriptionStyleModel",
            "_view_count": null,
            "_view_module": "@jupyter-widgets/base",
            "_view_module_version": "1.2.0",
            "_view_name": "StyleView",
            "description_width": ""
          }
        },
        "0e4639afa910443c999695e47d140aed": {
          "model_module": "@jupyter-widgets/controls",
          "model_name": "PasswordModel",
          "model_module_version": "1.5.0",
          "state": {
            "_dom_classes": [],
            "_model_module": "@jupyter-widgets/controls",
            "_model_module_version": "1.5.0",
            "_model_name": "PasswordModel",
            "_view_count": null,
            "_view_module": "@jupyter-widgets/controls",
            "_view_module_version": "1.5.0",
            "_view_name": "PasswordView",
            "continuous_update": true,
            "description": "Password:",
            "description_tooltip": null,
            "disabled": false,
            "layout": "IPY_MODEL_11228ae1a4994d4d8fa25a8f3296c1f1",
            "placeholder": "​",
            "style": "IPY_MODEL_8d2a12c0a1f14b21863410bae9895fee",
            "value": ""
          }
        },
        "11228ae1a4994d4d8fa25a8f3296c1f1": {
          "model_module": "@jupyter-widgets/base",
          "model_name": "LayoutModel",
          "model_module_version": "1.2.0",
          "state": {
            "_model_module": "@jupyter-widgets/base",
            "_model_module_version": "1.2.0",
            "_model_name": "LayoutModel",
            "_view_count": null,
            "_view_module": "@jupyter-widgets/base",
            "_view_module_version": "1.2.0",
            "_view_name": "LayoutView",
            "align_content": null,
            "align_items": null,
            "align_self": null,
            "border": null,
            "bottom": null,
            "display": null,
            "flex": null,
            "flex_flow": null,
            "grid_area": null,
            "grid_auto_columns": null,
            "grid_auto_flow": null,
            "grid_auto_rows": null,
            "grid_column": null,
            "grid_gap": null,
            "grid_row": null,
            "grid_template_areas": null,
            "grid_template_columns": null,
            "grid_template_rows": null,
            "height": null,
            "justify_content": null,
            "justify_items": null,
            "left": null,
            "margin": null,
            "max_height": null,
            "max_width": null,
            "min_height": null,
            "min_width": null,
            "object_fit": null,
            "object_position": null,
            "order": null,
            "overflow": null,
            "overflow_x": null,
            "overflow_y": null,
            "padding": null,
            "right": null,
            "top": null,
            "visibility": null,
            "width": "250px"
          }
        },
        "8d2a12c0a1f14b21863410bae9895fee": {
          "model_module": "@jupyter-widgets/controls",
          "model_name": "DescriptionStyleModel",
          "model_module_version": "1.5.0",
          "state": {
            "_model_module": "@jupyter-widgets/controls",
            "_model_module_version": "1.5.0",
            "_model_name": "DescriptionStyleModel",
            "_view_count": null,
            "_view_module": "@jupyter-widgets/base",
            "_view_module_version": "1.2.0",
            "_view_name": "StyleView",
            "description_width": ""
          }
        },
        "1c3530809e9b48fba2d17efe2409e96f": {
          "model_module": "@jupyter-widgets/controls",
          "model_name": "ButtonModel",
          "model_module_version": "1.5.0",
          "state": {
            "_dom_classes": [
              "button"
            ],
            "_model_module": "@jupyter-widgets/controls",
            "_model_module_version": "1.5.0",
            "_model_name": "ButtonModel",
            "_view_count": null,
            "_view_module": "@jupyter-widgets/controls",
            "_view_module_version": "1.5.0",
            "_view_name": "ButtonView",
            "button_style": "",
            "description": "Login",
            "disabled": false,
            "icon": "",
            "layout": "IPY_MODEL_d6dd669af885408fb7053d93448e0d2e",
            "style": "IPY_MODEL_5b86c43e3fed4addb0ee2f30bdfc3fda",
            "tooltip": ""
          }
        },
        "d6dd669af885408fb7053d93448e0d2e": {
          "model_module": "@jupyter-widgets/base",
          "model_name": "LayoutModel",
          "model_module_version": "1.2.0",
          "state": {
            "_model_module": "@jupyter-widgets/base",
            "_model_module_version": "1.2.0",
            "_model_name": "LayoutModel",
            "_view_count": null,
            "_view_module": "@jupyter-widgets/base",
            "_view_module_version": "1.2.0",
            "_view_name": "LayoutView",
            "align_content": null,
            "align_items": null,
            "align_self": null,
            "border": null,
            "bottom": null,
            "display": null,
            "flex": null,
            "flex_flow": null,
            "grid_area": null,
            "grid_auto_columns": null,
            "grid_auto_flow": null,
            "grid_auto_rows": null,
            "grid_column": null,
            "grid_gap": null,
            "grid_row": null,
            "grid_template_areas": null,
            "grid_template_columns": null,
            "grid_template_rows": null,
            "height": null,
            "justify_content": null,
            "justify_items": null,
            "left": null,
            "margin": null,
            "max_height": null,
            "max_width": null,
            "min_height": null,
            "min_width": null,
            "object_fit": null,
            "object_position": null,
            "order": null,
            "overflow": null,
            "overflow_x": null,
            "overflow_y": null,
            "padding": null,
            "right": null,
            "top": null,
            "visibility": null,
            "width": null
          }
        },
        "5b86c43e3fed4addb0ee2f30bdfc3fda": {
          "model_module": "@jupyter-widgets/controls",
          "model_name": "ButtonStyleModel",
          "model_module_version": "1.5.0",
          "state": {
            "_model_module": "@jupyter-widgets/controls",
            "_model_module_version": "1.5.0",
            "_model_name": "ButtonStyleModel",
            "_view_count": null,
            "_view_module": "@jupyter-widgets/base",
            "_view_module_version": "1.2.0",
            "_view_name": "StyleView",
            "button_color": null,
            "font_weight": ""
          }
        },
        "20ef556a2b034f0da1cc688243308266": {
          "model_module": "@jupyter-widgets/controls",
          "model_name": "LabelModel",
          "model_module_version": "1.5.0",
          "state": {
            "_dom_classes": [],
            "_model_module": "@jupyter-widgets/controls",
            "_model_module_version": "1.5.0",
            "_model_name": "LabelModel",
            "_view_count": null,
            "_view_module": "@jupyter-widgets/controls",
            "_view_module_version": "1.5.0",
            "_view_name": "LabelView",
            "description": "",
            "description_tooltip": null,
            "layout": "IPY_MODEL_4d0f0f883f9b46969524c714ae2cbdb2",
            "placeholder": "​",
            "style": "IPY_MODEL_b1bf98ac4ad942e2840392272cf0d633",
            "value": ""
          }
        },
        "4d0f0f883f9b46969524c714ae2cbdb2": {
          "model_module": "@jupyter-widgets/base",
          "model_name": "LayoutModel",
          "model_module_version": "1.2.0",
          "state": {
            "_model_module": "@jupyter-widgets/base",
            "_model_module_version": "1.2.0",
            "_model_name": "LayoutModel",
            "_view_count": null,
            "_view_module": "@jupyter-widgets/base",
            "_view_module_version": "1.2.0",
            "_view_name": "LayoutView",
            "align_content": null,
            "align_items": null,
            "align_self": null,
            "border": null,
            "bottom": null,
            "display": null,
            "flex": null,
            "flex_flow": null,
            "grid_area": null,
            "grid_auto_columns": null,
            "grid_auto_flow": null,
            "grid_auto_rows": null,
            "grid_column": null,
            "grid_gap": null,
            "grid_row": null,
            "grid_template_areas": null,
            "grid_template_columns": null,
            "grid_template_rows": null,
            "height": "100px",
            "justify_content": null,
            "justify_items": null,
            "left": null,
            "margin": null,
            "max_height": null,
            "max_width": null,
            "min_height": null,
            "min_width": null,
            "object_fit": null,
            "object_position": null,
            "order": null,
            "overflow": null,
            "overflow_x": null,
            "overflow_y": null,
            "padding": null,
            "right": null,
            "top": null,
            "visibility": null,
            "width": null
          }
        },
        "b1bf98ac4ad942e2840392272cf0d633": {
          "model_module": "@jupyter-widgets/controls",
          "model_name": "DescriptionStyleModel",
          "model_module_version": "1.5.0",
          "state": {
            "_model_module": "@jupyter-widgets/controls",
            "_model_module_version": "1.5.0",
            "_model_name": "DescriptionStyleModel",
            "_view_count": null,
            "_view_module": "@jupyter-widgets/base",
            "_view_module_version": "1.2.0",
            "_view_name": "StyleView",
            "description_width": ""
          }
        }
      }
    }
  },
  "cells": [
    {
      "cell_type": "markdown",
      "metadata": {
        "id": "view-in-github",
        "colab_type": "text"
      },
      "source": [
        "<a href=\"https://colab.research.google.com/github/ToiznerD/CloudComputing/blob/main/Login_Window_Raz.ipynb\" target=\"_parent\"><img src=\"https://colab.research.google.com/assets/colab-badge.svg\" alt=\"Open In Colab\"/></a>"
      ]
    },
    {
      "cell_type": "code",
      "execution_count": 1,
      "metadata": {
        "colab": {
          "base_uri": "https://localhost:8080/"
        },
        "id": "qn5oIagqXss7",
        "outputId": "1125e77e-d9dc-4526-ce91-37ff2561a855"
      },
      "outputs": [
        {
          "output_type": "stream",
          "name": "stdout",
          "text": [
            "Looking in indexes: https://pypi.org/simple, https://us-python.pkg.dev/colab-wheels/public/simple/\n",
            "Collecting firebase\n",
            "  Downloading firebase-4.0.1-py3-none-any.whl (12 kB)\n",
            "Requirement already satisfied: requests in /usr/local/lib/python3.10/dist-packages (from firebase) (2.27.1)\n",
            "Requirement already satisfied: urllib3<1.27,>=1.21.1 in /usr/local/lib/python3.10/dist-packages (from requests->firebase) (1.26.15)\n",
            "Requirement already satisfied: certifi>=2017.4.17 in /usr/local/lib/python3.10/dist-packages (from requests->firebase) (2022.12.7)\n",
            "Requirement already satisfied: charset-normalizer~=2.0.0 in /usr/local/lib/python3.10/dist-packages (from requests->firebase) (2.0.12)\n",
            "Requirement already satisfied: idna<4,>=2.5 in /usr/local/lib/python3.10/dist-packages (from requests->firebase) (3.4)\n",
            "Installing collected packages: firebase\n",
            "Successfully installed firebase-4.0.1\n"
          ]
        }
      ],
      "source": [
        "!pip install firebase"
      ]
    },
    {
      "cell_type": "code",
      "source": [
        "from firebase import firebase\n",
        "from google.colab import drive\n",
        "import ipywidgets as widgets\n",
        "from google.colab.output import _publish as publish\n",
        "\n",
        "\n",
        "FBconn = firebase.FirebaseApplication('https://my-project-9af3b-default-rtdb.firebaseio.com/', None)\n",
        "\n",
        "def loginButton_eventhandler(obj):\n",
        "  usersDB = FBconn.get('/Users/', None)\n",
        "  \n",
        "  # Check if user is exists in DB\n",
        "  for key in usersDB:\n",
        "      if usersDB[key]['username'] == username.value and usersDB[key]['password'] == password.value:\n",
        "        label.value = 'You have successfully logged in!'\n",
        "        break\n",
        "      else:\n",
        "        label.value = 'Wrong details or user is not exists'\n",
        "\n",
        "\n",
        "#@title LoginForm\n",
        "\n",
        "# Get style\n",
        "drive.mount('/content/drive', force_remount=True)\n",
        "with open('/content/drive/My Drive/MyStyles/style.css') as fid:\n",
        "  style = fid.read()\n",
        "\n",
        "username = widgets.Text(description=\"User Name:\", layout=widgets.Layout(width='250px'))\n",
        "\n",
        "password = widgets.Password(description=\"Password:\", layout=widgets.Layout(width='250px'))\n",
        "\n",
        "btn = widgets.Button(description='Login')\n",
        "btn.on_click(loginButton_eventhandler)\n",
        "btn.add_class('button')\n",
        "\n",
        "label = widgets.Label(value='', layout=widgets.Layout(height='100px'))\n",
        "publish.css(style)\n",
        "\n",
        "display(username, password, btn, label)\n",
        "\n",
        "\n"
      ],
      "metadata": {
        "colab": {
          "base_uri": "https://localhost:8080/",
          "height": 233,
          "referenced_widgets": [
            "d5032381a1624282b402bab434000cd6",
            "0e03256a98e344cfaa4fce82552aff84",
            "50751385274f4c939214b00f4487d307",
            "0e4639afa910443c999695e47d140aed",
            "11228ae1a4994d4d8fa25a8f3296c1f1",
            "8d2a12c0a1f14b21863410bae9895fee",
            "1c3530809e9b48fba2d17efe2409e96f",
            "d6dd669af885408fb7053d93448e0d2e",
            "5b86c43e3fed4addb0ee2f30bdfc3fda",
            "20ef556a2b034f0da1cc688243308266",
            "4d0f0f883f9b46969524c714ae2cbdb2",
            "b1bf98ac4ad942e2840392272cf0d633"
          ]
        },
        "id": "TrhlRMvlYUR6",
        "outputId": "e79f778b-1516-4fb9-d109-976a26a6e494"
      },
      "execution_count": 65,
      "outputs": [
        {
          "output_type": "stream",
          "name": "stdout",
          "text": [
            "Mounted at /content/drive\n"
          ]
        },
        {
          "output_type": "display_data",
          "data": {
            "text/plain": [
              "<IPython.core.display.HTML object>"
            ],
            "text/html": [
              "<style>body {\n",
              "  background-image: url(\"https://img.freepik.com/premium-photo/grunge-wood-panels-texture_174699-4.jpg\");\n",
              "}\n",
              "\n",
              "h2, .h2 {\n",
              "  font-weight: bold;\n",
              "  font-style: italic;\n",
              "  font-family: 'Pacifico', cursive;\n",
              "  font-size: 40px;\n",
              "  text-shadow: 2px 2px #000000;\n",
              "  color: #FFD700;\n",
              "  text-align: center;\n",
              "  margin: 20px auto;\n",
              "}\n",
              "\n",
              "h1 , .h1 {\n",
              "  color: #FFD700;\n",
              "  text-align: center;\n",
              "  font-family: 'Montserrat', sans-serif;\n",
              "  font-size: 5em;\n",
              "  text-transform: uppercase;\n",
              "  letter-spacing: 0.1em;\n",
              "  text-shadow: 0 0 5px #fff, 0 0 10px #fff, 0 0 15px #fff, 0 0 20px #ff00de, 0 0 30px #ff00de, 0 0 40px #ff00de, 0 0 55px #ff00de;\n",
              "  padding: 20px;\n",
              "  border-radius: 20px;\n",
              "}\n",
              "\n",
              "#loading-bar {\n",
              "      width: 200px;\n",
              "      height: 20px;\n",
              "      background-color: #eee;\n",
              "      border-radius: 5px;\n",
              "      margin: 50px auto;\n",
              "      position: relative;\n",
              "    }\n",
              "#loading-progress {\n",
              "      width: 0%;\n",
              "      height: 100%;\n",
              "      background-color: #06c;\n",
              "      border-radius: 5px;\n",
              "      position: absolute;\n",
              "      top: 0;\n",
              "      left: 0;\n",
              "      transition: width 1s ease-in-out;\n",
              "    }\n",
              "\n",
              "h3\n",
              "   {\n",
              "    color: green ;\n",
              "    text-align: center;\n",
              "    font-family: 'Pacifico', cursive;\n",
              "    font-size: 50px;\n",
              "    text-shadow: 2px 2px #000000;\n",
              "    margin-top: 50px;\n",
              "  }\n",
              "h4, .h4\n",
              "  {\n",
              "    color: red;\n",
              "    font-family: 'Pacifico', cursive;\n",
              "    font-size: 50px;\n",
              "    text-shadow: 2px 2px #000000;\n",
              "\n",
              "    margin-top: 50px;\n",
              "\n",
              "  }\n",
              "h5, .h5\n",
              "  {\n",
              "  color: green;\n",
              "  text-align: center;\n",
              "  font-family: 'Pacifico', cursive;\n",
              "  font-size: 50px;\n",
              "  text-shadow: 2px 2px #000000;\n",
              "  margin-top: 50px;\n",
              "  }\n",
              "\n",
              ".button {\n",
              "  background-color: #ffd900;\n",
              "  font-weight: bold;\n",
              "  font-style: italic;\n",
              "  font-family: 'Pacifico', cursive;\n",
              "  font-size: 20px;\n",
              "  text-shadow: 1px 1px #000000;\n",
              "  color: #927c00;\n",
              "  text-align: center;\n",
              "  border-radius: 5px;\n",
              "  word-wrap: break-word;\n",
              "  white-space: normal;\n",
              "  display: inline-block;\n",
              "}\n",
              "\n",
              ".button:hover{\n",
              "  background-color: #c2a500;\n",
              "  font-weight: bold;\n",
              "  font-style: italic;\n",
              "  font-family: 'Pacifico', cursive;\n",
              "  font-size: 20px;\n",
              "  text-shadow: 1px 1px #000000;\n",
              "  color: #927c00;\n",
              "  text-align: center;\n",
              "  border-radius: 5px;\n",
              "  word-wrap: break-word;\n",
              "  white-space: normal;\n",
              "  display: inline-block;\n",
              "}\n",
              "\n",
              ".correctAnswer{\n",
              "  background-color: #00ff11;\n",
              "  font-weight: bold;\n",
              "  font-style: italic;\n",
              "  font-family: 'Pacifico', cursive;\n",
              "  font-size: 20px;\n",
              "  text-shadow: 1px 1px #000000;\n",
              "  color: #927c00;\n",
              "  text-align: center;\n",
              "  border-radius: 5px;\n",
              "  word-wrap: break-word;\n",
              "  white-space: normal;\n",
              "  display: inline-block;\n",
              "}\n",
              "\n",
              ".wrongAnswer{\n",
              "  background-color: #cb3300;\n",
              "  font-weight: bold;\n",
              "  font-style: italic;\n",
              "  font-family: 'Pacifico', cursive;\n",
              "  font-size: 20px;\n",
              "  text-shadow: 1px 1px #000000;\n",
              "  color: #927c00;\n",
              "  text-align: center;\n",
              "  border-radius: 5px;\n",
              "  word-wrap: break-word;\n",
              "  white-space: normal;\n",
              "  display: inline-block;\n",
              "}</style>"
            ]
          },
          "metadata": {}
        },
        {
          "output_type": "display_data",
          "data": {
            "text/plain": [
              "Text(value='', description='User Name:', layout=Layout(width='250px'))"
            ],
            "application/vnd.jupyter.widget-view+json": {
              "version_major": 2,
              "version_minor": 0,
              "model_id": "d5032381a1624282b402bab434000cd6"
            }
          },
          "metadata": {}
        },
        {
          "output_type": "display_data",
          "data": {
            "text/plain": [
              "Password(description='Password:', layout=Layout(width='250px'))"
            ],
            "application/vnd.jupyter.widget-view+json": {
              "version_major": 2,
              "version_minor": 0,
              "model_id": "0e4639afa910443c999695e47d140aed"
            }
          },
          "metadata": {}
        },
        {
          "output_type": "display_data",
          "data": {
            "text/plain": [
              "Button(description='Login', style=ButtonStyle(), _dom_classes=('button',))"
            ],
            "application/vnd.jupyter.widget-view+json": {
              "version_major": 2,
              "version_minor": 0,
              "model_id": "1c3530809e9b48fba2d17efe2409e96f"
            }
          },
          "metadata": {}
        },
        {
          "output_type": "display_data",
          "data": {
            "text/plain": [
              "Label(value='', layout=Layout(height='100px'))"
            ],
            "application/vnd.jupyter.widget-view+json": {
              "version_major": 2,
              "version_minor": 0,
              "model_id": "20ef556a2b034f0da1cc688243308266"
            }
          },
          "metadata": {}
        }
      ]
    }
  ]
}
